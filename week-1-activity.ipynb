{
    "metadata": {
        "kernelspec": {
            "name": "SQL",
            "display_name": "SQL",
            "language": "sql"
        },
        "language_info": {
            "name": "sql",
            "version": ""
        }
    },
    "nbformat_minor": 2,
    "nbformat": 4,
    "cells": [
        {
            "cell_type": "markdown",
            "source": [
                "1. Write a SELECT statement that returns three columns from the Vendors table: VendorContactFName, VendorContactLName, and VendorName. Sort the result set by last name, then by first name."
            ],
            "metadata": {
                "azdata_cell_guid": "05631a75-f657-4a62-8918-9821b610c24d"
            },
            "attachments": {}
        },
        {
            "cell_type": "code",
            "source": [
                "SELECT VendorContactFName\n",
                "    , VendorContactLName\n",
                "\t, VendorName\n",
                "FROM Vendors\n",
                "ORDER BY VendorContactLName\n",
                "\t, VendorContactFName;"
            ],
            "metadata": {
                "azdata_cell_guid": "65ef38b2-1e85-4416-a19f-d4f19f1ac18a",
                "language": "sql",
                "tags": []
            },
            "outputs": [
                {
                    "output_type": "display_data",
                    "data": {
                        "text/html": "(122 rows affected)"
                    },
                    "metadata": {}
                },
                {
                    "output_type": "display_data",
                    "data": {
                        "text/html": "Total execution time: 00:00:00.008"
                    },
                    "metadata": {}
                },
                {
                    "output_type": "execute_result",
                    "metadata": {},
                    "execution_count": 27,
                    "data": {
                        "application/vnd.dataresource+json": {
                            "schema": {
                                "fields": [
                                    {
                                        "name": "VendorContactFName"
                                    },
                                    {
                                        "name": "VendorContactLName"
                                    },
                                    {
                                        "name": "VendorName"
                                    }
                                ]
                            },
                            "data": [
                                {
                                    "VendorContactFName": "Thom",
                                    "VendorContactLName": "Aaronsen",
                                    "VendorName": "Dristas Groom & McCormick"
                                },
                                {
                                    "VendorContactFName": "Joan",
                                    "VendorContactLName": "Aileen",
                                    "VendorName": "Internal Revenue Service"
                                },
                                {
                                    "VendorContactFName": "Francesco",
                                    "VendorContactLName": "Alberto",
                                    "VendorName": "US Postal Service"
                                },
                                {
                                    "VendorContactFName": "Alexandro",
                                    "VendorContactLName": "Alexis",
                                    "VendorName": "Yale Industrial Trucks-Fresno"
                                },
                                {
                                    "VendorContactFName": "Zev",
                                    "VendorContactLName": "Alondra",
                                    "VendorName": "Leslie Company"
                                },
                                {
                                    "VendorContactFName": "Nashalie",
                                    "VendorContactLName": "Angelica",
                                    "VendorName": "American Booksellers Assoc"
                                },
                                {
                                    "VendorContactFName": "Troy",
                                    "VendorContactLName": "Antavius",
                                    "VendorName": "Courier Companies, Inc"
                                },
                                {
                                    "VendorContactFName": "Kaitlyn",
                                    "VendorContactLName": "Anthoni",
                                    "VendorName": "Pacific Gas & Electric"
                                },
                                {
                                    "VendorContactFName": "Trisha",
                                    "VendorContactLName": "Anum",
                                    "VendorName": "Lou Gentile's Flower Basket"
                                },
                                {
                                    "VendorContactFName": "Robert",
                                    "VendorContactLName": "Aranovitch",
                                    "VendorName": "Pollstar"
                                },
                                {
                                    "VendorContactFName": "Jan",
                                    "VendorContactLName": "Armando",
                                    "VendorName": "Compuserve"
                                },
                                {
                                    "VendorContactFName": "Cesar",
                                    "VendorContactLName": "Arodondo",
                                    "VendorName": "Data Reproductions Corp"
                                },
                                {
                                    "VendorContactFName": "Mercedez",
                                    "VendorContactLName": "Articunia",
                                    "VendorName": "State of California"
                                },
                                {
                                    "VendorContactFName": "Leroy",
                                    "VendorContactLName": "Aryn",
                                    "VendorName": "Computer Library"
                                },
                                {
                                    "VendorContactFName": "Dakota",
                                    "VendorContactLName": "Baylee",
                                    "VendorName": "Fresno Rack & Shelving Inc"
                                },
                                {
                                    "VendorContactFName": "Violet",
                                    "VendorContactLName": "Beauregard",
                                    "VendorName": "United Parcel Service"
                                },
                                {
                                    "VendorContactFName": "Lucy",
                                    "VendorContactLName": "Bernard",
                                    "VendorName": "Nat Assoc of College Stores"
                                },
                                {
                                    "VendorContactFName": "Brittnee",
                                    "VendorContactLName": "Bernardo",
                                    "VendorName": "Baker & Taylor Books"
                                },
                                {
                                    "VendorContactFName": "Korah",
                                    "VendorContactLName": "Blanca",
                                    "VendorName": "Golden Eagle Insurance Co"
                                },
                                {
                                    "VendorContactFName": "Rachael",
                                    "VendorContactLName": "Bluzinski",
                                    "VendorName": "Unocal"
                                },
                                {
                                    "VendorContactFName": "Daniel",
                                    "VendorContactLName": "Bradlee",
                                    "VendorName": "Simon Direct Inc"
                                },
                                {
                                    "VendorContactFName": "Walter",
                                    "VendorContactLName": "Bragg",
                                    "VendorName": "Gostanian General Building"
                                },
                                {
                                    "VendorContactFName": "Anne",
                                    "VendorContactLName": "Braydon",
                                    "VendorName": "Fresno Credit Bureau"
                                },
                                {
                                    "VendorContactFName": "Kila",
                                    "VendorContactLName": "Brenton",
                                    "VendorName": "Fresno County Tax Collector"
                                },
                                {
                                    "VendorContactFName": "Keely",
                                    "VendorContactLName": "Brooklynn",
                                    "VendorName": "Nielson"
                                },
                                {
                                    "VendorContactFName": "Charlie",
                                    "VendorContactLName": "Bucket",
                                    "VendorName": "Federal Express Corporation"
                                },
                                {
                                    "VendorContactFName": "Trentin",
                                    "VendorContactLName": "Camron",
                                    "VendorName": "IBM"
                                },
                                {
                                    "VendorContactFName": "Priscilla",
                                    "VendorContactLName": "Carrollton",
                                    "VendorName": "Publishers Weekly"
                                },
                                {
                                    "VendorContactFName": "Julian",
                                    "VendorContactLName": "Carson",
                                    "VendorName": "Boucher Communications Inc"
                                },
                                {
                                    "VendorContactFName": "Derek",
                                    "VendorContactLName": "Chaddick",
                                    "VendorName": "Fresno Photoengraving Company"
                                },
                                {
                                    "VendorContactFName": "Kaylea",
                                    "VendorContactLName": "Cheyenne",
                                    "VendorName": "Ph Photographic Services"
                                },
                                {
                                    "VendorContactFName": "Charlie",
                                    "VendorContactLName": "Church",
                                    "VendorName": "Dataforms/West"
                                },
                                {
                                    "VendorContactFName": "Jillian",
                                    "VendorContactLName": "Clifford",
                                    "VendorName": "Champion Printing Company"
                                },
                                {
                                    "VendorContactFName": "Dusty",
                                    "VendorContactLName": "Colette",
                                    "VendorName": "Small Press"
                                },
                                {
                                    "VendorContactFName": "Leah",
                                    "VendorContactLName": "Colton",
                                    "VendorName": "The Fresno Bee"
                                },
                                {
                                    "VendorContactFName": "Deborah",
                                    "VendorContactLName": "Damien",
                                    "VendorName": "Open Horizons Publishing"
                                },
                                {
                                    "VendorContactFName": "Mikayla",
                                    "VendorContactLName": "Damion",
                                    "VendorName": "Wells Fargo Bank"
                                },
                                {
                                    "VendorContactFName": "Rachael",
                                    "VendorContactLName": "Danielson",
                                    "VendorName": "Executive Office Products"
                                },
                                {
                                    "VendorContactFName": "Elisabeth",
                                    "VendorContactLName": "Darien",
                                    "VendorName": "ASC Signs"
                                },
                                {
                                    "VendorContactFName": "Julissa",
                                    "VendorContactLName": "Dean",
                                    "VendorName": "State Board Of Equalization"
                                },
                                {
                                    "VendorContactFName": "Tristin",
                                    "VendorContactLName": "Deasia",
                                    "VendorName": "Bill Jones"
                                },
                                {
                                    "VendorContactFName": "Luciano",
                                    "VendorContactLName": "Destin",
                                    "VendorName": "McKesson Water Products"
                                },
                                {
                                    "VendorContactFName": "Salina",
                                    "VendorContactLName": "Edgardo",
                                    "VendorName": "Retirement Plan Consultants"
                                },
                                {
                                    "VendorContactFName": "Nikolas",
                                    "VendorContactLName": "Eliana",
                                    "VendorName": "Blue Cross"
                                },
                                {
                                    "VendorContactFName": "Ron",
                                    "VendorContactLName": "Elmert",
                                    "VendorName": "Digital Dreamworks"
                                },
                                {
                                    "VendorContactFName": "Marjorie",
                                    "VendorContactLName": "Essence",
                                    "VendorName": "RR Bowker"
                                },
                                {
                                    "VendorContactFName": "Kelsey",
                                    "VendorContactLName": "Eulalia",
                                    "VendorName": "Cardinal Business Media, Inc."
                                },
                                {
                                    "VendorContactFName": "Emily",
                                    "VendorContactLName": "Evan",
                                    "VendorName": "Micro Center"
                                },
                                {
                                    "VendorContactFName": "Fyodor",
                                    "VendorContactLName": "Finklestein",
                                    "VendorName": "Postmaster"
                                },
                                {
                                    "VendorContactFName": "Kyra",
                                    "VendorContactLName": "Francis",
                                    "VendorName": "Abbey Office Furnishings"
                                },
                                {
                                    "VendorContactFName": "Kristofer",
                                    "VendorContactLName": "Gerald",
                                    "VendorName": "Naylor Publications Inc"
                                },
                                {
                                    "VendorContactFName": "Brian",
                                    "VendorContactLName": "Griffin",
                                    "VendorName": "Aztek Label"
                                },
                                {
                                    "VendorContactFName": "Juliana",
                                    "VendorContactLName": "Hallie",
                                    "VendorName": "Zee Medical Service Co"
                                },
                                {
                                    "VendorContactFName": "Jeanette",
                                    "VendorContactLName": "Helena",
                                    "VendorName": "Edward Data Services"
                                },
                                {
                                    "VendorContactFName": "Reba",
                                    "VendorContactLName": "Hernandez",
                                    "VendorName": "Yesmed, Inc"
                                },
                                {
                                    "VendorContactFName": "Rashad",
                                    "VendorContactLName": "Holbrooke",
                                    "VendorName": "Mcgraw Hill Companies"
                                },
                                {
                                    "VendorContactFName": "Kaitlin",
                                    "VendorContactLName": "Hostlery",
                                    "VendorName": "Bill Marvin Electric Inc"
                                },
                                {
                                    "VendorContactFName": "Demetrius",
                                    "VendorContactLName": "Hunter",
                                    "VendorName": "Cal State Termite"
                                },
                                {
                                    "VendorContactFName": "Ania",
                                    "VendorContactLName": "Irvin",
                                    "VendorName": "National Information Data Ctr"
                                },
                                {
                                    "VendorContactFName": "Samuel",
                                    "VendorContactLName": "Jacobsen",
                                    "VendorName": "Cahners Publishing Company"
                                },
                                {
                                    "VendorContactFName": "Caitlin",
                                    "VendorContactLName": "Jair",
                                    "VendorName": "Gary McKeighan Insurance"
                                },
                                {
                                    "VendorContactFName": "Aaron",
                                    "VendorContactLName": "Jaquan",
                                    "VendorName": "Costco"
                                },
                                {
                                    "VendorContactFName": "Justin",
                                    "VendorContactLName": "Javen",
                                    "VendorName": "Zip Print & Copy Center"
                                },
                                {
                                    "VendorContactFName": "Vance",
                                    "VendorContactLName": "Johnson",
                                    "VendorName": "Dean Witter Reynolds"
                                },
                                {
                                    "VendorContactFName": "Moises",
                                    "VendorContactLName": "Jonessen",
                                    "VendorName": "California Data Marketing"
                                },
                                {
                                    "VendorContactFName": "Lorena",
                                    "VendorContactLName": "Josey",
                                    "VendorName": "DMV Renewal"
                                },
                                {
                                    "VendorContactFName": "Erick",
                                    "VendorContactLName": "Kaleigh",
                                    "VendorName": "BFI Industries"
                                },
                                {
                                    "VendorContactFName": "Robert",
                                    "VendorContactLName": "Kapil",
                                    "VendorName": "Wang Laboratories, Inc."
                                },
                                {
                                    "VendorContactFName": "Gonzalo",
                                    "VendorContactLName": "Keeton",
                                    "VendorName": "Blanchard & Johnson Associates"
                                },
                                {
                                    "VendorContactFName": "Rowan",
                                    "VendorContactLName": "Kerry",
                                    "VendorName": "Shields Design"
                                },
                                {
                                    "VendorContactFName": "Laura",
                                    "VendorContactLName": "Kraggin",
                                    "VendorName": "Net Asset, Llc"
                                },
                                {
                                    "VendorContactFName": "Karina",
                                    "VendorContactLName": "Lacy",
                                    "VendorName": "The Mailers Guide Co"
                                },
                                {
                                    "VendorContactFName": "Vanesa",
                                    "VendorContactLName": "Lane",
                                    "VendorName": "Diversified Printing & Pub"
                                },
                                {
                                    "VendorContactFName": "Eileen",
                                    "VendorContactLName": "Lawrence",
                                    "VendorName": "Enterprise Communications Inc"
                                },
                                {
                                    "VendorContactFName": "Bill",
                                    "VendorContactLName": "Leigh",
                                    "VendorName": "Robbins Mobile Lock And Key"
                                },
                                {
                                    "VendorContactFName": "Darnell",
                                    "VendorContactLName": "Lewis",
                                    "VendorName": "Ascom Hasler Mailing Systems"
                                },
                                {
                                    "VendorContactFName": "Lukas",
                                    "VendorContactLName": "Liana",
                                    "VendorName": "Register of Copyrights"
                                },
                                {
                                    "VendorContactFName": "Angel",
                                    "VendorContactLName": "Lloyd",
                                    "VendorName": "Computerworld"
                                },
                                {
                                    "VendorContactFName": "Ted",
                                    "VendorContactLName": "Maegen",
                                    "VendorName": "Towne Advertiser's Mailing Svcs"
                                },
                                {
                                    "VendorContactFName": "Clarence",
                                    "VendorContactLName": "Maeve",
                                    "VendorName": "Springhouse Corp"
                                },
                                {
                                    "VendorContactFName": "Kyle",
                                    "VendorContactLName": "Marissa",
                                    "VendorName": "The Presort Center"
                                },
                                {
                                    "VendorContactFName": "Michelle",
                                    "VendorContactLName": "Marks",
                                    "VendorName": "Newbrige Book Clubs"
                                },
                                {
                                    "VendorContactFName": "Malia",
                                    "VendorContactLName": "Marques",
                                    "VendorName": "The Library Ltd"
                                },
                                {
                                    "VendorContactFName": "Anton",
                                    "VendorContactLName": "Mauro",
                                    "VendorName": "California Chamber Of Commerce"
                                },
                                {
                                    "VendorContactFName": "Jayda",
                                    "VendorContactLName": "Maxwell",
                                    "VendorName": "Capital Resource Credit"
                                },
                                {
                                    "VendorContactFName": "Kendall",
                                    "VendorContactLName": "Mayte",
                                    "VendorName": "City Of Fresno"
                                },
                                {
                                    "VendorContactFName": "Jeffery",
                                    "VendorContactLName": "Mckayla",
                                    "VendorName": "The Drawing Board"
                                },
                                {
                                    "VendorContactFName": "Johnathon",
                                    "VendorContactLName": "Millerton",
                                    "VendorName": "Frank E Wilber Co"
                                },
                                {
                                    "VendorContactFName": "Kayle",
                                    "VendorContactLName": "Misael",
                                    "VendorName": "Quality Education Data"
                                },
                                {
                                    "VendorContactFName": "Harley",
                                    "VendorContactLName": "Myles",
                                    "VendorName": "Custom Printing Company"
                                },
                                {
                                    "VendorContactFName": "Thalia",
                                    "VendorContactLName": "Neftaly",
                                    "VendorName": "Venture Communications Int'l"
                                },
                                {
                                    "VendorContactFName": "Ingrid",
                                    "VendorContactLName": "Neil",
                                    "VendorName": "Rich Advertising"
                                },
                                {
                                    "VendorContactFName": "Kurt",
                                    "VendorContactLName": "Nickalus",
                                    "VendorName": "Pacific Bell"
                                },
                                {
                                    "VendorContactFName": "Grace",
                                    "VendorContactLName": "Oren",
                                    "VendorName": "Texaco"
                                },
                                {
                                    "VendorContactFName": "Gideon",
                                    "VendorContactLName": "Paris",
                                    "VendorName": "Opamp Technical Books"
                                },
                                {
                                    "VendorContactFName": "Val",
                                    "VendorContactLName": "Pinsippi",
                                    "VendorName": "Office Depot"
                                },
                                {
                                    "VendorContactFName": "Lance",
                                    "VendorContactLName": "Potter",
                                    "VendorName": "Bertelsmann Industry Svcs. Inc"
                                },
                                {
                                    "VendorContactFName": "Anita",
                                    "VendorContactLName": "Prado",
                                    "VendorName": "Franchise Tax Board"
                                },
                                {
                                    "VendorContactFName": "Kenzie",
                                    "VendorContactLName": "Quinn",
                                    "VendorName": "Jobtrak"
                                },
                                {
                                    "VendorContactFName": "Marvin",
                                    "VendorContactLName": "Quintin",
                                    "VendorName": "Expedata Inc"
                                },
                                {
                                    "VendorContactFName": "Yash",
                                    "VendorContactLName": "Randall",
                                    "VendorName": "Cmg Information Services"
                                },
                                {
                                    "VendorContactFName": "Leann",
                                    "VendorContactLName": "Randrup",
                                    "VendorName": "Crown Printing"
                                },
                                {
                                    "VendorContactFName": "Jamari",
                                    "VendorContactLName": "Raven",
                                    "VendorName": "Vision Envelope & Printing"
                                },
                                {
                                    "VendorContactFName": "Abe",
                                    "VendorContactLName": "Regging",
                                    "VendorName": "Malloy Lithographing Inc"
                                },
                                {
                                    "VendorContactFName": "Carlee",
                                    "VendorContactLName": "Rodolfo",
                                    "VendorName": "Reiter's Scientific & Pro Books"
                                },
                                {
                                    "VendorContactFName": "Anders",
                                    "VendorContactLName": "Rohansen",
                                    "VendorName": "California Business Machines"
                                },
                                {
                                    "VendorContactFName": "Jaime",
                                    "VendorContactLName": "Ronaldsen",
                                    "VendorName": "Zylka Design"
                                },
                                {
                                    "VendorContactFName": "Nathanael",
                                    "VendorContactLName": "Rothman",
                                    "VendorName": "Wakefield Co"
                                },
                                {
                                    "VendorContactFName": "Hannah",
                                    "VendorContactLName": "Royce",
                                    "VendorName": "Evans Executone Inc"
                                },
                                {
                                    "VendorContactFName": "Kylie",
                                    "VendorContactLName": "Smith",
                                    "VendorName": "Blue Shield of California"
                                },
                                {
                                    "VendorContactFName": "Sam",
                                    "VendorContactLName": "Smith",
                                    "VendorName": "Roadway Package System, Inc"
                                },
                                {
                                    "VendorContactFName": "Jeffrey",
                                    "VendorContactLName": "Smitzen",
                                    "VendorName": "Coffee Break Service"
                                },
                                {
                                    "VendorContactFName": "Karen",
                                    "VendorContactLName": "Snyder",
                                    "VendorName": "Ford Motor Credit Company"
                                },
                                {
                                    "VendorContactFName": "Harold",
                                    "VendorContactLName": "Spivak",
                                    "VendorName": "Suburban Propane"
                                },
                                {
                                    "VendorContactFName": "Wendy",
                                    "VendorContactLName": "Stevens",
                                    "VendorName": "Kent H Landsberg Co"
                                },
                                {
                                    "VendorContactFName": "Kirsten",
                                    "VendorContactLName": "Story",
                                    "VendorName": "American Express"
                                },
                                {
                                    "VendorContactFName": "Deangelo",
                                    "VendorContactLName": "Sydney",
                                    "VendorName": "Graylift"
                                },
                                {
                                    "VendorContactFName": "Jovon",
                                    "VendorContactLName": "Walker",
                                    "VendorName": "Publishers Marketing Assoc"
                                },
                                {
                                    "VendorContactFName": "Quentin",
                                    "VendorContactLName": "Warren",
                                    "VendorName": "Valprint"
                                },
                                {
                                    "VendorContactFName": "Alisha",
                                    "VendorContactLName": "Wesley",
                                    "VendorName": "AT&T"
                                },
                                {
                                    "VendorContactFName": "Liam",
                                    "VendorContactLName": "Wood",
                                    "VendorName": "The Windows Deck"
                                },
                                {
                                    "VendorContactFName": "Trey",
                                    "VendorContactLName": "Yobani",
                                    "VendorName": "Ingram"
                                }
                            ]
                        },
                        "text/html": [
                            "<table>",
                            "<tr><th>VendorContactFName</th><th>VendorContactLName</th><th>VendorName</th></tr>",
                            "<tr><td>Thom</td><td>Aaronsen</td><td>Dristas Groom &amp; McCormick</td></tr>",
                            "<tr><td>Joan</td><td>Aileen</td><td>Internal Revenue Service</td></tr>",
                            "<tr><td>Francesco</td><td>Alberto</td><td>US Postal Service</td></tr>",
                            "<tr><td>Alexandro</td><td>Alexis</td><td>Yale Industrial Trucks-Fresno</td></tr>",
                            "<tr><td>Zev</td><td>Alondra</td><td>Leslie Company</td></tr>",
                            "<tr><td>Nashalie</td><td>Angelica</td><td>American Booksellers Assoc</td></tr>",
                            "<tr><td>Troy</td><td>Antavius</td><td>Courier Companies, Inc</td></tr>",
                            "<tr><td>Kaitlyn</td><td>Anthoni</td><td>Pacific Gas &amp; Electric</td></tr>",
                            "<tr><td>Trisha</td><td>Anum</td><td>Lou Gentile&#39;s Flower Basket</td></tr>",
                            "<tr><td>Robert</td><td>Aranovitch</td><td>Pollstar</td></tr>",
                            "<tr><td>Jan</td><td>Armando</td><td>Compuserve</td></tr>",
                            "<tr><td>Cesar</td><td>Arodondo</td><td>Data Reproductions Corp</td></tr>",
                            "<tr><td>Mercedez</td><td>Articunia</td><td>State of California</td></tr>",
                            "<tr><td>Leroy</td><td>Aryn</td><td>Computer Library</td></tr>",
                            "<tr><td>Dakota</td><td>Baylee</td><td>Fresno Rack &amp; Shelving Inc</td></tr>",
                            "<tr><td>Violet</td><td>Beauregard</td><td>United Parcel Service</td></tr>",
                            "<tr><td>Lucy</td><td>Bernard</td><td>Nat Assoc of College Stores</td></tr>",
                            "<tr><td>Brittnee</td><td>Bernardo</td><td>Baker &amp; Taylor Books</td></tr>",
                            "<tr><td>Korah</td><td>Blanca</td><td>Golden Eagle Insurance Co</td></tr>",
                            "<tr><td>Rachael</td><td>Bluzinski</td><td>Unocal</td></tr>",
                            "<tr><td>Daniel</td><td>Bradlee</td><td>Simon Direct Inc</td></tr>",
                            "<tr><td>Walter</td><td>Bragg</td><td>Gostanian General Building</td></tr>",
                            "<tr><td>Anne</td><td>Braydon</td><td>Fresno Credit Bureau</td></tr>",
                            "<tr><td>Kila</td><td>Brenton</td><td>Fresno County Tax Collector</td></tr>",
                            "<tr><td>Keely</td><td>Brooklynn</td><td>Nielson</td></tr>",
                            "<tr><td>Charlie</td><td>Bucket</td><td>Federal Express Corporation</td></tr>",
                            "<tr><td>Trentin</td><td>Camron</td><td>IBM</td></tr>",
                            "<tr><td>Priscilla</td><td>Carrollton</td><td>Publishers Weekly</td></tr>",
                            "<tr><td>Julian</td><td>Carson</td><td>Boucher Communications Inc</td></tr>",
                            "<tr><td>Derek</td><td>Chaddick</td><td>Fresno Photoengraving Company</td></tr>",
                            "<tr><td>Kaylea</td><td>Cheyenne</td><td>Ph Photographic Services</td></tr>",
                            "<tr><td>Charlie</td><td>Church</td><td>Dataforms/West</td></tr>",
                            "<tr><td>Jillian</td><td>Clifford</td><td>Champion Printing Company</td></tr>",
                            "<tr><td>Dusty</td><td>Colette</td><td>Small Press</td></tr>",
                            "<tr><td>Leah</td><td>Colton</td><td>The Fresno Bee</td></tr>",
                            "<tr><td>Deborah</td><td>Damien</td><td>Open Horizons Publishing</td></tr>",
                            "<tr><td>Mikayla</td><td>Damion</td><td>Wells Fargo Bank</td></tr>",
                            "<tr><td>Rachael</td><td>Danielson</td><td>Executive Office Products</td></tr>",
                            "<tr><td>Elisabeth</td><td>Darien</td><td>ASC Signs</td></tr>",
                            "<tr><td>Julissa</td><td>Dean</td><td>State Board Of Equalization</td></tr>",
                            "<tr><td>Tristin</td><td>Deasia</td><td>Bill Jones</td></tr>",
                            "<tr><td>Luciano</td><td>Destin</td><td>McKesson Water Products</td></tr>",
                            "<tr><td>Salina</td><td>Edgardo</td><td>Retirement Plan Consultants</td></tr>",
                            "<tr><td>Nikolas</td><td>Eliana</td><td>Blue Cross</td></tr>",
                            "<tr><td>Ron</td><td>Elmert</td><td>Digital Dreamworks</td></tr>",
                            "<tr><td>Marjorie</td><td>Essence</td><td>RR Bowker</td></tr>",
                            "<tr><td>Kelsey</td><td>Eulalia</td><td>Cardinal Business Media, Inc.</td></tr>",
                            "<tr><td>Emily</td><td>Evan</td><td>Micro Center</td></tr>",
                            "<tr><td>Fyodor</td><td>Finklestein</td><td>Postmaster</td></tr>",
                            "<tr><td>Kyra</td><td>Francis</td><td>Abbey Office Furnishings</td></tr>",
                            "<tr><td>Kristofer</td><td>Gerald</td><td>Naylor Publications Inc</td></tr>",
                            "<tr><td>Brian</td><td>Griffin</td><td>Aztek Label</td></tr>",
                            "<tr><td>Juliana</td><td>Hallie</td><td>Zee Medical Service Co</td></tr>",
                            "<tr><td>Jeanette</td><td>Helena</td><td>Edward Data Services</td></tr>",
                            "<tr><td>Reba</td><td>Hernandez</td><td>Yesmed, Inc</td></tr>",
                            "<tr><td>Rashad</td><td>Holbrooke</td><td>Mcgraw Hill Companies</td></tr>",
                            "<tr><td>Kaitlin</td><td>Hostlery</td><td>Bill Marvin Electric Inc</td></tr>",
                            "<tr><td>Demetrius</td><td>Hunter</td><td>Cal State Termite</td></tr>",
                            "<tr><td>Ania</td><td>Irvin</td><td>National Information Data Ctr</td></tr>",
                            "<tr><td>Samuel</td><td>Jacobsen</td><td>Cahners Publishing Company</td></tr>",
                            "<tr><td>Caitlin</td><td>Jair</td><td>Gary McKeighan Insurance</td></tr>",
                            "<tr><td>Aaron</td><td>Jaquan</td><td>Costco</td></tr>",
                            "<tr><td>Justin</td><td>Javen</td><td>Zip Print &amp; Copy Center</td></tr>",
                            "<tr><td>Vance</td><td>Johnson</td><td>Dean Witter Reynolds</td></tr>",
                            "<tr><td>Moises</td><td>Jonessen</td><td>California Data Marketing</td></tr>",
                            "<tr><td>Lorena</td><td>Josey</td><td>DMV Renewal</td></tr>",
                            "<tr><td>Erick</td><td>Kaleigh</td><td>BFI Industries</td></tr>",
                            "<tr><td>Robert</td><td>Kapil</td><td>Wang Laboratories, Inc.</td></tr>",
                            "<tr><td>Gonzalo</td><td>Keeton</td><td>Blanchard &amp; Johnson Associates</td></tr>",
                            "<tr><td>Rowan</td><td>Kerry</td><td>Shields Design</td></tr>",
                            "<tr><td>Laura</td><td>Kraggin</td><td>Net Asset, Llc</td></tr>",
                            "<tr><td>Karina</td><td>Lacy</td><td>The Mailers Guide Co</td></tr>",
                            "<tr><td>Vanesa</td><td>Lane</td><td>Diversified Printing &amp; Pub</td></tr>",
                            "<tr><td>Eileen</td><td>Lawrence</td><td>Enterprise Communications Inc</td></tr>",
                            "<tr><td>Bill</td><td>Leigh</td><td>Robbins Mobile Lock And Key</td></tr>",
                            "<tr><td>Darnell</td><td>Lewis</td><td>Ascom Hasler Mailing Systems</td></tr>",
                            "<tr><td>Lukas</td><td>Liana</td><td>Register of Copyrights</td></tr>",
                            "<tr><td>Angel</td><td>Lloyd</td><td>Computerworld</td></tr>",
                            "<tr><td>Ted</td><td>Maegen</td><td>Towne Advertiser&#39;s Mailing Svcs</td></tr>",
                            "<tr><td>Clarence</td><td>Maeve</td><td>Springhouse Corp</td></tr>",
                            "<tr><td>Kyle</td><td>Marissa</td><td>The Presort Center</td></tr>",
                            "<tr><td>Michelle</td><td>Marks</td><td>Newbrige Book Clubs</td></tr>",
                            "<tr><td>Malia</td><td>Marques</td><td>The Library Ltd</td></tr>",
                            "<tr><td>Anton</td><td>Mauro</td><td>California Chamber Of Commerce</td></tr>",
                            "<tr><td>Jayda</td><td>Maxwell</td><td>Capital Resource Credit</td></tr>",
                            "<tr><td>Kendall</td><td>Mayte</td><td>City Of Fresno</td></tr>",
                            "<tr><td>Jeffery</td><td>Mckayla</td><td>The Drawing Board</td></tr>",
                            "<tr><td>Johnathon</td><td>Millerton</td><td>Frank E Wilber Co</td></tr>",
                            "<tr><td>Kayle</td><td>Misael</td><td>Quality Education Data</td></tr>",
                            "<tr><td>Harley</td><td>Myles</td><td>Custom Printing Company</td></tr>",
                            "<tr><td>Thalia</td><td>Neftaly</td><td>Venture Communications Int&#39;l</td></tr>",
                            "<tr><td>Ingrid</td><td>Neil</td><td>Rich Advertising</td></tr>",
                            "<tr><td>Kurt</td><td>Nickalus</td><td>Pacific Bell</td></tr>",
                            "<tr><td>Grace</td><td>Oren</td><td>Texaco</td></tr>",
                            "<tr><td>Gideon</td><td>Paris</td><td>Opamp Technical Books</td></tr>",
                            "<tr><td>Val</td><td>Pinsippi</td><td>Office Depot</td></tr>",
                            "<tr><td>Lance</td><td>Potter</td><td>Bertelsmann Industry Svcs. Inc</td></tr>",
                            "<tr><td>Anita</td><td>Prado</td><td>Franchise Tax Board</td></tr>",
                            "<tr><td>Kenzie</td><td>Quinn</td><td>Jobtrak</td></tr>",
                            "<tr><td>Marvin</td><td>Quintin</td><td>Expedata Inc</td></tr>",
                            "<tr><td>Yash</td><td>Randall</td><td>Cmg Information Services</td></tr>",
                            "<tr><td>Leann</td><td>Randrup</td><td>Crown Printing</td></tr>",
                            "<tr><td>Jamari</td><td>Raven</td><td>Vision Envelope &amp; Printing</td></tr>",
                            "<tr><td>Abe</td><td>Regging</td><td>Malloy Lithographing Inc</td></tr>",
                            "<tr><td>Carlee</td><td>Rodolfo</td><td>Reiter&#39;s Scientific &amp; Pro Books</td></tr>",
                            "<tr><td>Anders</td><td>Rohansen</td><td>California Business Machines</td></tr>",
                            "<tr><td>Jaime</td><td>Ronaldsen</td><td>Zylka Design</td></tr>",
                            "<tr><td>Nathanael</td><td>Rothman</td><td>Wakefield Co</td></tr>",
                            "<tr><td>Hannah</td><td>Royce</td><td>Evans Executone Inc</td></tr>",
                            "<tr><td>Kylie</td><td>Smith</td><td>Blue Shield of California</td></tr>",
                            "<tr><td>Sam</td><td>Smith</td><td>Roadway Package System, Inc</td></tr>",
                            "<tr><td>Jeffrey</td><td>Smitzen</td><td>Coffee Break Service</td></tr>",
                            "<tr><td>Karen</td><td>Snyder</td><td>Ford Motor Credit Company</td></tr>",
                            "<tr><td>Harold</td><td>Spivak</td><td>Suburban Propane</td></tr>",
                            "<tr><td>Wendy</td><td>Stevens</td><td>Kent H Landsberg Co</td></tr>",
                            "<tr><td>Kirsten</td><td>Story</td><td>American Express</td></tr>",
                            "<tr><td>Deangelo</td><td>Sydney</td><td>Graylift</td></tr>",
                            "<tr><td>Jovon</td><td>Walker</td><td>Publishers Marketing Assoc</td></tr>",
                            "<tr><td>Quentin</td><td>Warren</td><td>Valprint</td></tr>",
                            "<tr><td>Alisha</td><td>Wesley</td><td>AT&amp;T</td></tr>",
                            "<tr><td>Liam</td><td>Wood</td><td>The Windows Deck</td></tr>",
                            "<tr><td>Trey</td><td>Yobani</td><td>Ingram</td></tr>",
                            "</table>"
                        ]
                    }
                }
            ],
            "execution_count": 27
        },
        {
            "cell_type": "markdown",
            "source": [
                "2\\. Write a SELECT statement that returns four columns from the Invoices table, named Number, Total, Credits, and Balance:\n",
                "\n",
                "Number             Column alias for the InvoiceNumber column  \n",
                "Total                   Column alias for the InvoiceTotal column  \n",
                "Credits               Sum of the PaymentTotal and CreditTotal  \n",
                "Balance              InvoiceTotal minus the sum of PaymentTotal and CreditTotal"
            ],
            "metadata": {
                "azdata_cell_guid": "7e7c52b0-9bae-4196-b42d-0b2ac303e2c6"
            },
            "attachments": {}
        },
        {
            "cell_type": "code",
            "source": [
                "SELECT InvoiceNumber AS Number\n",
                "\t, InvoiceTotal AS Total\n",
                "\t, PaymentTotal + CreditTotal AS Credits\n",
                "\t, InvoiceTotal - (PaymentTotal + CreditTotal) AS Balance\n",
                "FROM Invoices;"
            ],
            "metadata": {
                "azdata_cell_guid": "2f9d3c30-eeb3-4594-b092-a7a0da1570e3",
                "language": "sql",
                "tags": []
            },
            "outputs": [
                {
                    "output_type": "display_data",
                    "data": {
                        "text/html": "(114 rows affected)"
                    },
                    "metadata": {}
                },
                {
                    "output_type": "display_data",
                    "data": {
                        "text/html": "Total execution time: 00:00:00.006"
                    },
                    "metadata": {}
                },
                {
                    "output_type": "execute_result",
                    "metadata": {},
                    "execution_count": 28,
                    "data": {
                        "application/vnd.dataresource+json": {
                            "schema": {
                                "fields": [
                                    {
                                        "name": "Number"
                                    },
                                    {
                                        "name": "Total"
                                    },
                                    {
                                        "name": "Credits"
                                    },
                                    {
                                        "name": "Balance"
                                    }
                                ]
                            },
                            "data": [
                                {
                                    "Number": "989319-457",
                                    "Total": "3813.33",
                                    "Credits": "3813.33",
                                    "Balance": "0.00"
                                },
                                {
                                    "Number": "263253241",
                                    "Total": "40.20",
                                    "Credits": "40.20",
                                    "Balance": "0.00"
                                },
                                {
                                    "Number": "963253234",
                                    "Total": "138.75",
                                    "Credits": "138.75",
                                    "Balance": "0.00"
                                },
                                {
                                    "Number": "2-000-2993",
                                    "Total": "144.70",
                                    "Credits": "144.70",
                                    "Balance": "0.00"
                                },
                                {
                                    "Number": "963253251",
                                    "Total": "15.50",
                                    "Credits": "15.50",
                                    "Balance": "0.00"
                                },
                                {
                                    "Number": "963253261",
                                    "Total": "42.75",
                                    "Credits": "42.75",
                                    "Balance": "0.00"
                                },
                                {
                                    "Number": "963253237",
                                    "Total": "172.50",
                                    "Credits": "172.50",
                                    "Balance": "0.00"
                                },
                                {
                                    "Number": "125520-1",
                                    "Total": "95.00",
                                    "Credits": "95.00",
                                    "Balance": "0.00"
                                },
                                {
                                    "Number": "97/488",
                                    "Total": "601.95",
                                    "Credits": "601.95",
                                    "Balance": "0.00"
                                },
                                {
                                    "Number": "263253250",
                                    "Total": "42.67",
                                    "Credits": "42.67",
                                    "Balance": "0.00"
                                },
                                {
                                    "Number": "963253262",
                                    "Total": "42.50",
                                    "Credits": "42.50",
                                    "Balance": "0.00"
                                },
                                {
                                    "Number": "I77271-O01",
                                    "Total": "662.00",
                                    "Credits": "662.00",
                                    "Balance": "0.00"
                                },
                                {
                                    "Number": "111-92R-10096",
                                    "Total": "16.33",
                                    "Credits": "16.33",
                                    "Balance": "0.00"
                                },
                                {
                                    "Number": "25022117",
                                    "Total": "6.00",
                                    "Credits": "6.00",
                                    "Balance": "0.00"
                                },
                                {
                                    "Number": "P02-88D77S7",
                                    "Total": "856.92",
                                    "Credits": "856.92",
                                    "Balance": "0.00"
                                },
                                {
                                    "Number": "21-4748363",
                                    "Total": "9.95",
                                    "Credits": "9.95",
                                    "Balance": "0.00"
                                },
                                {
                                    "Number": "4-321-2596",
                                    "Total": "10.00",
                                    "Credits": "10.00",
                                    "Balance": "0.00"
                                },
                                {
                                    "Number": "963253242",
                                    "Total": "104.00",
                                    "Credits": "104.00",
                                    "Balance": "0.00"
                                },
                                {
                                    "Number": "QP58872",
                                    "Total": "116.54",
                                    "Credits": "116.54",
                                    "Balance": "0.00"
                                },
                                {
                                    "Number": "24863706",
                                    "Total": "6.00",
                                    "Credits": "6.00",
                                    "Balance": "0.00"
                                },
                                {
                                    "Number": "10843",
                                    "Total": "4901.26",
                                    "Credits": "4901.26",
                                    "Balance": "0.00"
                                },
                                {
                                    "Number": "963253235",
                                    "Total": "108.25",
                                    "Credits": "108.25",
                                    "Balance": "0.00"
                                },
                                {
                                    "Number": "21-4923721",
                                    "Total": "9.95",
                                    "Credits": "9.95",
                                    "Balance": "0.00"
                                },
                                {
                                    "Number": "77290",
                                    "Total": "1750.00",
                                    "Credits": "1750.00",
                                    "Balance": "0.00"
                                },
                                {
                                    "Number": "963253246",
                                    "Total": "129.00",
                                    "Credits": "129.00",
                                    "Balance": "0.00"
                                },
                                {
                                    "Number": "4-342-8069",
                                    "Total": "10.00",
                                    "Credits": "10.00",
                                    "Balance": "0.00"
                                },
                                {
                                    "Number": "972110",
                                    "Total": "207.78",
                                    "Credits": "207.78",
                                    "Balance": "0.00"
                                },
                                {
                                    "Number": "963253263",
                                    "Total": "109.50",
                                    "Credits": "109.50",
                                    "Balance": "0.00"
                                },
                                {
                                    "Number": "121897",
                                    "Total": "450.00",
                                    "Credits": "450.00",
                                    "Balance": "0.00"
                                },
                                {
                                    "Number": "1-200-5164",
                                    "Total": "63.40",
                                    "Credits": "63.40",
                                    "Balance": "0.00"
                                },
                                {
                                    "Number": "P02-3772",
                                    "Total": "7125.34",
                                    "Credits": "7125.34",
                                    "Balance": "0.00"
                                },
                                {
                                    "Number": "97/486",
                                    "Total": "953.10",
                                    "Credits": "953.10",
                                    "Balance": "0.00"
                                },
                                {
                                    "Number": "94007005",
                                    "Total": "220.00",
                                    "Credits": "220.00",
                                    "Balance": "0.00"
                                },
                                {
                                    "Number": "963253232",
                                    "Total": "127.75",
                                    "Credits": "127.75",
                                    "Balance": "0.00"
                                },
                                {
                                    "Number": "RTR-72-3662-X",
                                    "Total": "1600.00",
                                    "Credits": "1600.00",
                                    "Balance": "0.00"
                                },
                                {
                                    "Number": "97/465",
                                    "Total": "565.15",
                                    "Credits": "565.15",
                                    "Balance": "0.00"
                                },
                                {
                                    "Number": "963253260",
                                    "Total": "36.00",
                                    "Credits": "36.00",
                                    "Balance": "0.00"
                                },
                                {
                                    "Number": "963253272",
                                    "Total": "61.50",
                                    "Credits": "61.50",
                                    "Balance": "0.00"
                                },
                                {
                                    "Number": "0-2058",
                                    "Total": "37966.19",
                                    "Credits": "37966.19",
                                    "Balance": "0.00"
                                },
                                {
                                    "Number": "97/503",
                                    "Total": "639.77",
                                    "Credits": "639.77",
                                    "Balance": "0.00"
                                },
                                {
                                    "Number": "963253255",
                                    "Total": "53.75",
                                    "Credits": "53.75",
                                    "Balance": "0.00"
                                },
                                {
                                    "Number": "94007069",
                                    "Total": "400.00",
                                    "Credits": "400.00",
                                    "Balance": "0.00"
                                },
                                {
                                    "Number": "40318",
                                    "Total": "21842.00",
                                    "Credits": "21842.00",
                                    "Balance": "0.00"
                                },
                                {
                                    "Number": "111-92R-10094",
                                    "Total": "19.67",
                                    "Credits": "19.67",
                                    "Balance": "0.00"
                                },
                                {
                                    "Number": "989319-437",
                                    "Total": "2765.36",
                                    "Credits": "2765.36",
                                    "Balance": "0.00"
                                },
                                {
                                    "Number": "547481328",
                                    "Total": "224.00",
                                    "Credits": "224.00",
                                    "Balance": "0.00"
                                },
                                {
                                    "Number": "31359783",
                                    "Total": "1575.00",
                                    "Credits": "1575.00",
                                    "Balance": "0.00"
                                },
                                {
                                    "Number": "1-202-2978",
                                    "Total": "33.00",
                                    "Credits": "33.00",
                                    "Balance": "0.00"
                                },
                                {
                                    "Number": "111-92R-10097",
                                    "Total": "16.33",
                                    "Credits": "16.33",
                                    "Balance": "0.00"
                                },
                                {
                                    "Number": "547479217",
                                    "Total": "116.00",
                                    "Credits": "116.00",
                                    "Balance": "0.00"
                                },
                                {
                                    "Number": "989319-477",
                                    "Total": "2184.11",
                                    "Credits": "2184.11",
                                    "Balance": "0.00"
                                },
                                {
                                    "Number": "Q545443",
                                    "Total": "1083.58",
                                    "Credits": "1083.58",
                                    "Balance": "0.00"
                                },
                                {
                                    "Number": "111-92R-10092",
                                    "Total": "46.21",
                                    "Credits": "46.21",
                                    "Balance": "0.00"
                                },
                                {
                                    "Number": "97/553B",
                                    "Total": "313.55",
                                    "Credits": "313.55",
                                    "Balance": "0.00"
                                },
                                {
                                    "Number": "963253245",
                                    "Total": "40.75",
                                    "Credits": "40.75",
                                    "Balance": "0.00"
                                },
                                {
                                    "Number": "367447",
                                    "Total": "2433.00",
                                    "Credits": "2433.00",
                                    "Balance": "0.00"
                                },
                                {
                                    "Number": "75C-90227",
                                    "Total": "1367.50",
                                    "Credits": "1367.50",
                                    "Balance": "0.00"
                                },
                                {
                                    "Number": "963253256",
                                    "Total": "53.25",
                                    "Credits": "53.25",
                                    "Balance": "0.00"
                                },
                                {
                                    "Number": "4-314-3057",
                                    "Total": "13.75",
                                    "Credits": "13.75",
                                    "Balance": "0.00"
                                },
                                {
                                    "Number": "989319-497",
                                    "Total": "2312.20",
                                    "Credits": "2312.20",
                                    "Balance": "0.00"
                                },
                                {
                                    "Number": "24946731",
                                    "Total": "25.67",
                                    "Credits": "25.67",
                                    "Balance": "0.00"
                                },
                                {
                                    "Number": "963253269",
                                    "Total": "26.75",
                                    "Credits": "26.75",
                                    "Balance": "0.00"
                                },
                                {
                                    "Number": "989319-427",
                                    "Total": "2115.81",
                                    "Credits": "2115.81",
                                    "Balance": "0.00"
                                },
                                {
                                    "Number": "963253267",
                                    "Total": "23.50",
                                    "Credits": "23.50",
                                    "Balance": "0.00"
                                },
                                {
                                    "Number": "509786",
                                    "Total": "6940.25",
                                    "Credits": "6940.25",
                                    "Balance": "0.00"
                                },
                                {
                                    "Number": "263253253",
                                    "Total": "31.95",
                                    "Credits": "31.95",
                                    "Balance": "0.00"
                                },
                                {
                                    "Number": "989319-487",
                                    "Total": "1927.54",
                                    "Credits": "1927.54",
                                    "Balance": "0.00"
                                },
                                {
                                    "Number": "MABO1489",
                                    "Total": "936.93",
                                    "Credits": "936.93",
                                    "Balance": "0.00"
                                },
                                {
                                    "Number": "133560",
                                    "Total": "175.00",
                                    "Credits": "175.00",
                                    "Balance": "0.00"
                                },
                                {
                                    "Number": "24780512",
                                    "Total": "6.00",
                                    "Credits": "6.00",
                                    "Balance": "0.00"
                                },
                                {
                                    "Number": "963253254",
                                    "Total": "108.50",
                                    "Credits": "108.50",
                                    "Balance": "0.00"
                                },
                                {
                                    "Number": "43966316",
                                    "Total": "10.00",
                                    "Credits": "10.00",
                                    "Balance": "0.00"
                                },
                                {
                                    "Number": "CBM9920-M-T77109",
                                    "Total": "290.00",
                                    "Credits": "290.00",
                                    "Balance": "0.00"
                                },
                                {
                                    "Number": "109596",
                                    "Total": "41.80",
                                    "Credits": "41.80",
                                    "Balance": "0.00"
                                },
                                {
                                    "Number": "7548906-20",
                                    "Total": "27.00",
                                    "Credits": "27.00",
                                    "Balance": "0.00"
                                },
                                {
                                    "Number": "963253248",
                                    "Total": "241.00",
                                    "Credits": "241.00",
                                    "Balance": "0.00"
                                },
                                {
                                    "Number": "97/553",
                                    "Total": "904.14",
                                    "Credits": "904.14",
                                    "Balance": "0.00"
                                },
                                {
                                    "Number": "97/522",
                                    "Total": "1962.13",
                                    "Credits": "1962.13",
                                    "Balance": "0.00"
                                },
                                {
                                    "Number": "587056",
                                    "Total": "2184.50",
                                    "Credits": "2184.50",
                                    "Balance": "0.00"
                                },
                                {
                                    "Number": "989319-467",
                                    "Total": "2318.03",
                                    "Credits": "2318.03",
                                    "Balance": "0.00"
                                },
                                {
                                    "Number": "263253265",
                                    "Total": "26.25",
                                    "Credits": "26.25",
                                    "Balance": "0.00"
                                },
                                {
                                    "Number": "203339-13",
                                    "Total": "17.50",
                                    "Credits": "17.50",
                                    "Balance": "0.00"
                                },
                                {
                                    "Number": "111-92R-10093",
                                    "Total": "39.77",
                                    "Credits": "39.77",
                                    "Balance": "0.00"
                                },
                                {
                                    "Number": "963253258",
                                    "Total": "111.00",
                                    "Credits": "111.00",
                                    "Balance": "0.00"
                                },
                                {
                                    "Number": "963253271",
                                    "Total": "158.00",
                                    "Credits": "158.00",
                                    "Balance": "0.00"
                                },
                                {
                                    "Number": "963253230",
                                    "Total": "739.20",
                                    "Credits": "739.20",
                                    "Balance": "0.00"
                                },
                                {
                                    "Number": "963253244",
                                    "Total": "60.00",
                                    "Credits": "60.00",
                                    "Balance": "0.00"
                                },
                                {
                                    "Number": "963253239",
                                    "Total": "147.25",
                                    "Credits": "147.25",
                                    "Balance": "0.00"
                                },
                                {
                                    "Number": "39104",
                                    "Total": "85.31",
                                    "Credits": "0.00",
                                    "Balance": "85.31"
                                },
                                {
                                    "Number": "963253252",
                                    "Total": "38.75",
                                    "Credits": "38.75",
                                    "Balance": "0.00"
                                },
                                {
                                    "Number": "111-92R-10095",
                                    "Total": "32.70",
                                    "Credits": "32.70",
                                    "Balance": "0.00"
                                },
                                {
                                    "Number": "111897",
                                    "Total": "16.62",
                                    "Credits": "16.62",
                                    "Balance": "0.00"
                                },
                                {
                                    "Number": "4-327-7357",
                                    "Total": "162.75",
                                    "Credits": "162.75",
                                    "Balance": "0.00"
                                },
                                {
                                    "Number": "963253264",
                                    "Total": "52.25",
                                    "Credits": "0.00",
                                    "Balance": "52.25"
                                },
                                {
                                    "Number": "C73-24",
                                    "Total": "600.00",
                                    "Credits": "600.00",
                                    "Balance": "0.00"
                                },
                                {
                                    "Number": "P-0259",
                                    "Total": "26881.40",
                                    "Credits": "26881.40",
                                    "Balance": "0.00"
                                },
                                {
                                    "Number": "97-1024A",
                                    "Total": "356.48",
                                    "Credits": "356.48",
                                    "Balance": "0.00"
                                },
                                {
                                    "Number": "31361833",
                                    "Total": "579.42",
                                    "Credits": "0.00",
                                    "Balance": "579.42"
                                },
                                {
                                    "Number": "263253268",
                                    "Total": "59.97",
                                    "Credits": "0.00",
                                    "Balance": "59.97"
                                },
                                {
                                    "Number": "263253270",
                                    "Total": "67.92",
                                    "Credits": "0.00",
                                    "Balance": "67.92"
                                },
                                {
                                    "Number": "263253273",
                                    "Total": "30.75",
                                    "Credits": "0.00",
                                    "Balance": "30.75"
                                },
                                {
                                    "Number": "P-0608",
                                    "Total": "20551.18",
                                    "Credits": "1200.00",
                                    "Balance": "19351.18"
                                },
                                {
                                    "Number": "989319-417",
                                    "Total": "2051.59",
                                    "Credits": "2051.59",
                                    "Balance": "0.00"
                                },
                                {
                                    "Number": "263253243",
                                    "Total": "44.44",
                                    "Credits": "44.44",
                                    "Balance": "0.00"
                                },
                                {
                                    "Number": "9982771",
                                    "Total": "503.20",
                                    "Credits": "0.00",
                                    "Balance": "503.20"
                                },
                                {
                                    "Number": "0-2060",
                                    "Total": "23517.58",
                                    "Credits": "23517.58",
                                    "Balance": "0.00"
                                },
                                {
                                    "Number": "989319-447",
                                    "Total": "3689.99",
                                    "Credits": "3689.99",
                                    "Balance": "0.00"
                                },
                                {
                                    "Number": "963253240",
                                    "Total": "67.00",
                                    "Credits": "67.00",
                                    "Balance": "0.00"
                                },
                                {
                                    "Number": "97/222",
                                    "Total": "1000.46",
                                    "Credits": "1000.46",
                                    "Balance": "0.00"
                                },
                                {
                                    "Number": "134116",
                                    "Total": "90.36",
                                    "Credits": "0.00",
                                    "Balance": "90.36"
                                },
                                {
                                    "Number": "263253257",
                                    "Total": "22.57",
                                    "Credits": "22.57",
                                    "Balance": "0.00"
                                },
                                {
                                    "Number": "0-2436",
                                    "Total": "10976.06",
                                    "Credits": "0.00",
                                    "Balance": "10976.06"
                                },
                                {
                                    "Number": "547480102",
                                    "Total": "224.00",
                                    "Credits": "0.00",
                                    "Balance": "224.00"
                                },
                                {
                                    "Number": "963253249",
                                    "Total": "127.75",
                                    "Credits": "127.75",
                                    "Balance": "0.00"
                                }
                            ]
                        },
                        "text/html": [
                            "<table>",
                            "<tr><th>Number</th><th>Total</th><th>Credits</th><th>Balance</th></tr>",
                            "<tr><td>989319-457</td><td>3813.33</td><td>3813.33</td><td>0.00</td></tr>",
                            "<tr><td>263253241</td><td>40.20</td><td>40.20</td><td>0.00</td></tr>",
                            "<tr><td>963253234</td><td>138.75</td><td>138.75</td><td>0.00</td></tr>",
                            "<tr><td>2-000-2993</td><td>144.70</td><td>144.70</td><td>0.00</td></tr>",
                            "<tr><td>963253251</td><td>15.50</td><td>15.50</td><td>0.00</td></tr>",
                            "<tr><td>963253261</td><td>42.75</td><td>42.75</td><td>0.00</td></tr>",
                            "<tr><td>963253237</td><td>172.50</td><td>172.50</td><td>0.00</td></tr>",
                            "<tr><td>125520-1</td><td>95.00</td><td>95.00</td><td>0.00</td></tr>",
                            "<tr><td>97/488</td><td>601.95</td><td>601.95</td><td>0.00</td></tr>",
                            "<tr><td>263253250</td><td>42.67</td><td>42.67</td><td>0.00</td></tr>",
                            "<tr><td>963253262</td><td>42.50</td><td>42.50</td><td>0.00</td></tr>",
                            "<tr><td>I77271-O01</td><td>662.00</td><td>662.00</td><td>0.00</td></tr>",
                            "<tr><td>111-92R-10096</td><td>16.33</td><td>16.33</td><td>0.00</td></tr>",
                            "<tr><td>25022117</td><td>6.00</td><td>6.00</td><td>0.00</td></tr>",
                            "<tr><td>P02-88D77S7</td><td>856.92</td><td>856.92</td><td>0.00</td></tr>",
                            "<tr><td>21-4748363</td><td>9.95</td><td>9.95</td><td>0.00</td></tr>",
                            "<tr><td>4-321-2596</td><td>10.00</td><td>10.00</td><td>0.00</td></tr>",
                            "<tr><td>963253242</td><td>104.00</td><td>104.00</td><td>0.00</td></tr>",
                            "<tr><td>QP58872</td><td>116.54</td><td>116.54</td><td>0.00</td></tr>",
                            "<tr><td>24863706</td><td>6.00</td><td>6.00</td><td>0.00</td></tr>",
                            "<tr><td>10843</td><td>4901.26</td><td>4901.26</td><td>0.00</td></tr>",
                            "<tr><td>963253235</td><td>108.25</td><td>108.25</td><td>0.00</td></tr>",
                            "<tr><td>21-4923721</td><td>9.95</td><td>9.95</td><td>0.00</td></tr>",
                            "<tr><td>77290</td><td>1750.00</td><td>1750.00</td><td>0.00</td></tr>",
                            "<tr><td>963253246</td><td>129.00</td><td>129.00</td><td>0.00</td></tr>",
                            "<tr><td>4-342-8069</td><td>10.00</td><td>10.00</td><td>0.00</td></tr>",
                            "<tr><td>972110</td><td>207.78</td><td>207.78</td><td>0.00</td></tr>",
                            "<tr><td>963253263</td><td>109.50</td><td>109.50</td><td>0.00</td></tr>",
                            "<tr><td>121897</td><td>450.00</td><td>450.00</td><td>0.00</td></tr>",
                            "<tr><td>1-200-5164</td><td>63.40</td><td>63.40</td><td>0.00</td></tr>",
                            "<tr><td>P02-3772</td><td>7125.34</td><td>7125.34</td><td>0.00</td></tr>",
                            "<tr><td>97/486</td><td>953.10</td><td>953.10</td><td>0.00</td></tr>",
                            "<tr><td>94007005</td><td>220.00</td><td>220.00</td><td>0.00</td></tr>",
                            "<tr><td>963253232</td><td>127.75</td><td>127.75</td><td>0.00</td></tr>",
                            "<tr><td>RTR-72-3662-X</td><td>1600.00</td><td>1600.00</td><td>0.00</td></tr>",
                            "<tr><td>97/465</td><td>565.15</td><td>565.15</td><td>0.00</td></tr>",
                            "<tr><td>963253260</td><td>36.00</td><td>36.00</td><td>0.00</td></tr>",
                            "<tr><td>963253272</td><td>61.50</td><td>61.50</td><td>0.00</td></tr>",
                            "<tr><td>0-2058</td><td>37966.19</td><td>37966.19</td><td>0.00</td></tr>",
                            "<tr><td>97/503</td><td>639.77</td><td>639.77</td><td>0.00</td></tr>",
                            "<tr><td>963253255</td><td>53.75</td><td>53.75</td><td>0.00</td></tr>",
                            "<tr><td>94007069</td><td>400.00</td><td>400.00</td><td>0.00</td></tr>",
                            "<tr><td>40318</td><td>21842.00</td><td>21842.00</td><td>0.00</td></tr>",
                            "<tr><td>111-92R-10094</td><td>19.67</td><td>19.67</td><td>0.00</td></tr>",
                            "<tr><td>989319-437</td><td>2765.36</td><td>2765.36</td><td>0.00</td></tr>",
                            "<tr><td>547481328</td><td>224.00</td><td>224.00</td><td>0.00</td></tr>",
                            "<tr><td>31359783</td><td>1575.00</td><td>1575.00</td><td>0.00</td></tr>",
                            "<tr><td>1-202-2978</td><td>33.00</td><td>33.00</td><td>0.00</td></tr>",
                            "<tr><td>111-92R-10097</td><td>16.33</td><td>16.33</td><td>0.00</td></tr>",
                            "<tr><td>547479217</td><td>116.00</td><td>116.00</td><td>0.00</td></tr>",
                            "<tr><td>989319-477</td><td>2184.11</td><td>2184.11</td><td>0.00</td></tr>",
                            "<tr><td>Q545443</td><td>1083.58</td><td>1083.58</td><td>0.00</td></tr>",
                            "<tr><td>111-92R-10092</td><td>46.21</td><td>46.21</td><td>0.00</td></tr>",
                            "<tr><td>97/553B</td><td>313.55</td><td>313.55</td><td>0.00</td></tr>",
                            "<tr><td>963253245</td><td>40.75</td><td>40.75</td><td>0.00</td></tr>",
                            "<tr><td>367447</td><td>2433.00</td><td>2433.00</td><td>0.00</td></tr>",
                            "<tr><td>75C-90227</td><td>1367.50</td><td>1367.50</td><td>0.00</td></tr>",
                            "<tr><td>963253256</td><td>53.25</td><td>53.25</td><td>0.00</td></tr>",
                            "<tr><td>4-314-3057</td><td>13.75</td><td>13.75</td><td>0.00</td></tr>",
                            "<tr><td>989319-497</td><td>2312.20</td><td>2312.20</td><td>0.00</td></tr>",
                            "<tr><td>24946731</td><td>25.67</td><td>25.67</td><td>0.00</td></tr>",
                            "<tr><td>963253269</td><td>26.75</td><td>26.75</td><td>0.00</td></tr>",
                            "<tr><td>989319-427</td><td>2115.81</td><td>2115.81</td><td>0.00</td></tr>",
                            "<tr><td>963253267</td><td>23.50</td><td>23.50</td><td>0.00</td></tr>",
                            "<tr><td>509786</td><td>6940.25</td><td>6940.25</td><td>0.00</td></tr>",
                            "<tr><td>263253253</td><td>31.95</td><td>31.95</td><td>0.00</td></tr>",
                            "<tr><td>989319-487</td><td>1927.54</td><td>1927.54</td><td>0.00</td></tr>",
                            "<tr><td>MABO1489</td><td>936.93</td><td>936.93</td><td>0.00</td></tr>",
                            "<tr><td>133560</td><td>175.00</td><td>175.00</td><td>0.00</td></tr>",
                            "<tr><td>24780512</td><td>6.00</td><td>6.00</td><td>0.00</td></tr>",
                            "<tr><td>963253254</td><td>108.50</td><td>108.50</td><td>0.00</td></tr>",
                            "<tr><td>43966316</td><td>10.00</td><td>10.00</td><td>0.00</td></tr>",
                            "<tr><td>CBM9920-M-T77109</td><td>290.00</td><td>290.00</td><td>0.00</td></tr>",
                            "<tr><td>109596</td><td>41.80</td><td>41.80</td><td>0.00</td></tr>",
                            "<tr><td>7548906-20</td><td>27.00</td><td>27.00</td><td>0.00</td></tr>",
                            "<tr><td>963253248</td><td>241.00</td><td>241.00</td><td>0.00</td></tr>",
                            "<tr><td>97/553</td><td>904.14</td><td>904.14</td><td>0.00</td></tr>",
                            "<tr><td>97/522</td><td>1962.13</td><td>1962.13</td><td>0.00</td></tr>",
                            "<tr><td>587056</td><td>2184.50</td><td>2184.50</td><td>0.00</td></tr>",
                            "<tr><td>989319-467</td><td>2318.03</td><td>2318.03</td><td>0.00</td></tr>",
                            "<tr><td>263253265</td><td>26.25</td><td>26.25</td><td>0.00</td></tr>",
                            "<tr><td>203339-13</td><td>17.50</td><td>17.50</td><td>0.00</td></tr>",
                            "<tr><td>111-92R-10093</td><td>39.77</td><td>39.77</td><td>0.00</td></tr>",
                            "<tr><td>963253258</td><td>111.00</td><td>111.00</td><td>0.00</td></tr>",
                            "<tr><td>963253271</td><td>158.00</td><td>158.00</td><td>0.00</td></tr>",
                            "<tr><td>963253230</td><td>739.20</td><td>739.20</td><td>0.00</td></tr>",
                            "<tr><td>963253244</td><td>60.00</td><td>60.00</td><td>0.00</td></tr>",
                            "<tr><td>963253239</td><td>147.25</td><td>147.25</td><td>0.00</td></tr>",
                            "<tr><td>39104</td><td>85.31</td><td>0.00</td><td>85.31</td></tr>",
                            "<tr><td>963253252</td><td>38.75</td><td>38.75</td><td>0.00</td></tr>",
                            "<tr><td>111-92R-10095</td><td>32.70</td><td>32.70</td><td>0.00</td></tr>",
                            "<tr><td>111897</td><td>16.62</td><td>16.62</td><td>0.00</td></tr>",
                            "<tr><td>4-327-7357</td><td>162.75</td><td>162.75</td><td>0.00</td></tr>",
                            "<tr><td>963253264</td><td>52.25</td><td>0.00</td><td>52.25</td></tr>",
                            "<tr><td>C73-24</td><td>600.00</td><td>600.00</td><td>0.00</td></tr>",
                            "<tr><td>P-0259</td><td>26881.40</td><td>26881.40</td><td>0.00</td></tr>",
                            "<tr><td>97-1024A</td><td>356.48</td><td>356.48</td><td>0.00</td></tr>",
                            "<tr><td>31361833</td><td>579.42</td><td>0.00</td><td>579.42</td></tr>",
                            "<tr><td>263253268</td><td>59.97</td><td>0.00</td><td>59.97</td></tr>",
                            "<tr><td>263253270</td><td>67.92</td><td>0.00</td><td>67.92</td></tr>",
                            "<tr><td>263253273</td><td>30.75</td><td>0.00</td><td>30.75</td></tr>",
                            "<tr><td>P-0608</td><td>20551.18</td><td>1200.00</td><td>19351.18</td></tr>",
                            "<tr><td>989319-417</td><td>2051.59</td><td>2051.59</td><td>0.00</td></tr>",
                            "<tr><td>263253243</td><td>44.44</td><td>44.44</td><td>0.00</td></tr>",
                            "<tr><td>9982771</td><td>503.20</td><td>0.00</td><td>503.20</td></tr>",
                            "<tr><td>0-2060</td><td>23517.58</td><td>23517.58</td><td>0.00</td></tr>",
                            "<tr><td>989319-447</td><td>3689.99</td><td>3689.99</td><td>0.00</td></tr>",
                            "<tr><td>963253240</td><td>67.00</td><td>67.00</td><td>0.00</td></tr>",
                            "<tr><td>97/222</td><td>1000.46</td><td>1000.46</td><td>0.00</td></tr>",
                            "<tr><td>134116</td><td>90.36</td><td>0.00</td><td>90.36</td></tr>",
                            "<tr><td>263253257</td><td>22.57</td><td>22.57</td><td>0.00</td></tr>",
                            "<tr><td>0-2436</td><td>10976.06</td><td>0.00</td><td>10976.06</td></tr>",
                            "<tr><td>547480102</td><td>224.00</td><td>0.00</td><td>224.00</td></tr>",
                            "<tr><td>963253249</td><td>127.75</td><td>127.75</td><td>0.00</td></tr>",
                            "</table>"
                        ]
                    }
                }
            ],
            "execution_count": 28
        },
        {
            "cell_type": "markdown",
            "source": [
                "<span style=\"caret-color: rgb(45, 59, 69); color: rgb(45, 59, 69); font-family: &quot;Lato Extended&quot;, Lato, &quot;Helvetica Neue&quot;, Helvetica, Arial, sans-serif; font-size: 16px; background-color: rgb(255, 255, 255);\">3. Write a SELECT statement that returns one column from the Vendors table named Full Name. Create this column from the VendorContactFName and VendorContactLName columns. Format it as follows: last name, comma, first name (for example, \"Doe, John\"). Sort the result set by last name, then by first name.</span>"
            ],
            "metadata": {
                "azdata_cell_guid": "f8c3d02d-a932-4b3a-95ba-addc552d85bc",
                "language": "sql"
            },
            "attachments": {}
        },
        {
            "cell_type": "code",
            "source": [
                "SELECT VendorContactLName + ', ' + VendorContactFName AS [Full Name]\n",
                "FROM Vendors\n",
                "ORDER BY VendorContactLName\n",
                "\t, VendorContactFName;"
            ],
            "metadata": {
                "azdata_cell_guid": "64e50449-9835-4089-b414-eb18dd6b724e",
                "language": "sql"
            },
            "outputs": [
                {
                    "output_type": "display_data",
                    "data": {
                        "text/html": "(122 rows affected)"
                    },
                    "metadata": {}
                },
                {
                    "output_type": "display_data",
                    "data": {
                        "text/html": "Total execution time: 00:00:00.008"
                    },
                    "metadata": {}
                },
                {
                    "output_type": "execute_result",
                    "metadata": {},
                    "execution_count": 29,
                    "data": {
                        "application/vnd.dataresource+json": {
                            "schema": {
                                "fields": [
                                    {
                                        "name": "Full Name"
                                    }
                                ]
                            },
                            "data": [
                                {
                                    "Full Name": "Aaronsen, Thom"
                                },
                                {
                                    "Full Name": "Aileen, Joan"
                                },
                                {
                                    "Full Name": "Alberto, Francesco"
                                },
                                {
                                    "Full Name": "Alexis, Alexandro"
                                },
                                {
                                    "Full Name": "Alondra, Zev"
                                },
                                {
                                    "Full Name": "Angelica, Nashalie"
                                },
                                {
                                    "Full Name": "Antavius, Troy"
                                },
                                {
                                    "Full Name": "Anthoni, Kaitlyn"
                                },
                                {
                                    "Full Name": "Anum, Trisha"
                                },
                                {
                                    "Full Name": "Aranovitch, Robert"
                                },
                                {
                                    "Full Name": "Armando, Jan"
                                },
                                {
                                    "Full Name": "Arodondo, Cesar"
                                },
                                {
                                    "Full Name": "Articunia, Mercedez"
                                },
                                {
                                    "Full Name": "Aryn, Leroy"
                                },
                                {
                                    "Full Name": "Baylee, Dakota"
                                },
                                {
                                    "Full Name": "Beauregard, Violet"
                                },
                                {
                                    "Full Name": "Bernard, Lucy"
                                },
                                {
                                    "Full Name": "Bernardo, Brittnee"
                                },
                                {
                                    "Full Name": "Blanca, Korah"
                                },
                                {
                                    "Full Name": "Bluzinski, Rachael"
                                },
                                {
                                    "Full Name": "Bradlee, Daniel"
                                },
                                {
                                    "Full Name": "Bragg, Walter"
                                },
                                {
                                    "Full Name": "Braydon, Anne"
                                },
                                {
                                    "Full Name": "Brenton, Kila"
                                },
                                {
                                    "Full Name": "Brooklynn, Keely"
                                },
                                {
                                    "Full Name": "Bucket, Charlie"
                                },
                                {
                                    "Full Name": "Camron, Trentin"
                                },
                                {
                                    "Full Name": "Carrollton, Priscilla"
                                },
                                {
                                    "Full Name": "Carson, Julian"
                                },
                                {
                                    "Full Name": "Chaddick, Derek"
                                },
                                {
                                    "Full Name": "Cheyenne, Kaylea"
                                },
                                {
                                    "Full Name": "Church, Charlie"
                                },
                                {
                                    "Full Name": "Clifford, Jillian"
                                },
                                {
                                    "Full Name": "Colette, Dusty"
                                },
                                {
                                    "Full Name": "Colton, Leah"
                                },
                                {
                                    "Full Name": "Damien, Deborah"
                                },
                                {
                                    "Full Name": "Damion, Mikayla"
                                },
                                {
                                    "Full Name": "Danielson, Rachael"
                                },
                                {
                                    "Full Name": "Darien, Elisabeth"
                                },
                                {
                                    "Full Name": "Dean, Julissa"
                                },
                                {
                                    "Full Name": "Deasia, Tristin"
                                },
                                {
                                    "Full Name": "Destin, Luciano"
                                },
                                {
                                    "Full Name": "Edgardo, Salina"
                                },
                                {
                                    "Full Name": "Eliana, Nikolas"
                                },
                                {
                                    "Full Name": "Elmert, Ron"
                                },
                                {
                                    "Full Name": "Essence, Marjorie"
                                },
                                {
                                    "Full Name": "Eulalia, Kelsey"
                                },
                                {
                                    "Full Name": "Evan, Emily"
                                },
                                {
                                    "Full Name": "Finklestein, Fyodor"
                                },
                                {
                                    "Full Name": "Francis, Kyra"
                                },
                                {
                                    "Full Name": "Gerald, Kristofer"
                                },
                                {
                                    "Full Name": "Griffin, Brian"
                                },
                                {
                                    "Full Name": "Hallie, Juliana"
                                },
                                {
                                    "Full Name": "Helena, Jeanette"
                                },
                                {
                                    "Full Name": "Hernandez, Reba"
                                },
                                {
                                    "Full Name": "Holbrooke, Rashad"
                                },
                                {
                                    "Full Name": "Hostlery, Kaitlin"
                                },
                                {
                                    "Full Name": "Hunter, Demetrius"
                                },
                                {
                                    "Full Name": "Irvin, Ania"
                                },
                                {
                                    "Full Name": "Jacobsen, Samuel"
                                },
                                {
                                    "Full Name": "Jair, Caitlin"
                                },
                                {
                                    "Full Name": "Jaquan, Aaron"
                                },
                                {
                                    "Full Name": "Javen, Justin"
                                },
                                {
                                    "Full Name": "Johnson, Vance"
                                },
                                {
                                    "Full Name": "Jonessen, Moises"
                                },
                                {
                                    "Full Name": "Josey, Lorena"
                                },
                                {
                                    "Full Name": "Kaleigh, Erick"
                                },
                                {
                                    "Full Name": "Kapil, Robert"
                                },
                                {
                                    "Full Name": "Keeton, Gonzalo"
                                },
                                {
                                    "Full Name": "Kerry, Rowan"
                                },
                                {
                                    "Full Name": "Kraggin, Laura"
                                },
                                {
                                    "Full Name": "Lacy, Karina"
                                },
                                {
                                    "Full Name": "Lane, Vanesa"
                                },
                                {
                                    "Full Name": "Lawrence, Eileen"
                                },
                                {
                                    "Full Name": "Leigh, Bill"
                                },
                                {
                                    "Full Name": "Lewis, Darnell"
                                },
                                {
                                    "Full Name": "Liana, Lukas"
                                },
                                {
                                    "Full Name": "Lloyd, Angel"
                                },
                                {
                                    "Full Name": "Maegen, Ted"
                                },
                                {
                                    "Full Name": "Maeve, Clarence"
                                },
                                {
                                    "Full Name": "Marissa, Kyle"
                                },
                                {
                                    "Full Name": "Marks, Michelle"
                                },
                                {
                                    "Full Name": "Marques, Malia"
                                },
                                {
                                    "Full Name": "Mauro, Anton"
                                },
                                {
                                    "Full Name": "Maxwell, Jayda"
                                },
                                {
                                    "Full Name": "Mayte, Kendall"
                                },
                                {
                                    "Full Name": "Mckayla, Jeffery"
                                },
                                {
                                    "Full Name": "Millerton, Johnathon"
                                },
                                {
                                    "Full Name": "Misael, Kayle"
                                },
                                {
                                    "Full Name": "Myles, Harley"
                                },
                                {
                                    "Full Name": "Neftaly, Thalia"
                                },
                                {
                                    "Full Name": "Neil, Ingrid"
                                },
                                {
                                    "Full Name": "Nickalus, Kurt"
                                },
                                {
                                    "Full Name": "Oren, Grace"
                                },
                                {
                                    "Full Name": "Paris, Gideon"
                                },
                                {
                                    "Full Name": "Pinsippi, Val"
                                },
                                {
                                    "Full Name": "Potter, Lance"
                                },
                                {
                                    "Full Name": "Prado, Anita"
                                },
                                {
                                    "Full Name": "Quinn, Kenzie"
                                },
                                {
                                    "Full Name": "Quintin, Marvin"
                                },
                                {
                                    "Full Name": "Randall, Yash"
                                },
                                {
                                    "Full Name": "Randrup, Leann"
                                },
                                {
                                    "Full Name": "Raven, Jamari"
                                },
                                {
                                    "Full Name": "Regging, Abe"
                                },
                                {
                                    "Full Name": "Rodolfo, Carlee"
                                },
                                {
                                    "Full Name": "Rohansen, Anders"
                                },
                                {
                                    "Full Name": "Ronaldsen, Jaime"
                                },
                                {
                                    "Full Name": "Rothman, Nathanael"
                                },
                                {
                                    "Full Name": "Royce, Hannah"
                                },
                                {
                                    "Full Name": "Smith, Kylie"
                                },
                                {
                                    "Full Name": "Smith, Sam"
                                },
                                {
                                    "Full Name": "Smitzen, Jeffrey"
                                },
                                {
                                    "Full Name": "Snyder, Karen"
                                },
                                {
                                    "Full Name": "Spivak, Harold"
                                },
                                {
                                    "Full Name": "Stevens, Wendy"
                                },
                                {
                                    "Full Name": "Story, Kirsten"
                                },
                                {
                                    "Full Name": "Sydney, Deangelo"
                                },
                                {
                                    "Full Name": "Walker, Jovon"
                                },
                                {
                                    "Full Name": "Warren, Quentin"
                                },
                                {
                                    "Full Name": "Wesley, Alisha"
                                },
                                {
                                    "Full Name": "Wood, Liam"
                                },
                                {
                                    "Full Name": "Yobani, Trey"
                                }
                            ]
                        },
                        "text/html": [
                            "<table>",
                            "<tr><th>Full Name</th></tr>",
                            "<tr><td>Aaronsen, Thom</td></tr>",
                            "<tr><td>Aileen, Joan</td></tr>",
                            "<tr><td>Alberto, Francesco</td></tr>",
                            "<tr><td>Alexis, Alexandro</td></tr>",
                            "<tr><td>Alondra, Zev</td></tr>",
                            "<tr><td>Angelica, Nashalie</td></tr>",
                            "<tr><td>Antavius, Troy</td></tr>",
                            "<tr><td>Anthoni, Kaitlyn</td></tr>",
                            "<tr><td>Anum, Trisha</td></tr>",
                            "<tr><td>Aranovitch, Robert</td></tr>",
                            "<tr><td>Armando, Jan</td></tr>",
                            "<tr><td>Arodondo, Cesar</td></tr>",
                            "<tr><td>Articunia, Mercedez</td></tr>",
                            "<tr><td>Aryn, Leroy</td></tr>",
                            "<tr><td>Baylee, Dakota</td></tr>",
                            "<tr><td>Beauregard, Violet</td></tr>",
                            "<tr><td>Bernard, Lucy</td></tr>",
                            "<tr><td>Bernardo, Brittnee</td></tr>",
                            "<tr><td>Blanca, Korah</td></tr>",
                            "<tr><td>Bluzinski, Rachael</td></tr>",
                            "<tr><td>Bradlee, Daniel</td></tr>",
                            "<tr><td>Bragg, Walter</td></tr>",
                            "<tr><td>Braydon, Anne</td></tr>",
                            "<tr><td>Brenton, Kila</td></tr>",
                            "<tr><td>Brooklynn, Keely</td></tr>",
                            "<tr><td>Bucket, Charlie</td></tr>",
                            "<tr><td>Camron, Trentin</td></tr>",
                            "<tr><td>Carrollton, Priscilla</td></tr>",
                            "<tr><td>Carson, Julian</td></tr>",
                            "<tr><td>Chaddick, Derek</td></tr>",
                            "<tr><td>Cheyenne, Kaylea</td></tr>",
                            "<tr><td>Church, Charlie</td></tr>",
                            "<tr><td>Clifford, Jillian</td></tr>",
                            "<tr><td>Colette, Dusty</td></tr>",
                            "<tr><td>Colton, Leah</td></tr>",
                            "<tr><td>Damien, Deborah</td></tr>",
                            "<tr><td>Damion, Mikayla</td></tr>",
                            "<tr><td>Danielson, Rachael</td></tr>",
                            "<tr><td>Darien, Elisabeth</td></tr>",
                            "<tr><td>Dean, Julissa</td></tr>",
                            "<tr><td>Deasia, Tristin</td></tr>",
                            "<tr><td>Destin, Luciano</td></tr>",
                            "<tr><td>Edgardo, Salina</td></tr>",
                            "<tr><td>Eliana, Nikolas</td></tr>",
                            "<tr><td>Elmert, Ron</td></tr>",
                            "<tr><td>Essence, Marjorie</td></tr>",
                            "<tr><td>Eulalia, Kelsey</td></tr>",
                            "<tr><td>Evan, Emily</td></tr>",
                            "<tr><td>Finklestein, Fyodor</td></tr>",
                            "<tr><td>Francis, Kyra</td></tr>",
                            "<tr><td>Gerald, Kristofer</td></tr>",
                            "<tr><td>Griffin, Brian</td></tr>",
                            "<tr><td>Hallie, Juliana</td></tr>",
                            "<tr><td>Helena, Jeanette</td></tr>",
                            "<tr><td>Hernandez, Reba</td></tr>",
                            "<tr><td>Holbrooke, Rashad</td></tr>",
                            "<tr><td>Hostlery, Kaitlin</td></tr>",
                            "<tr><td>Hunter, Demetrius</td></tr>",
                            "<tr><td>Irvin, Ania</td></tr>",
                            "<tr><td>Jacobsen, Samuel</td></tr>",
                            "<tr><td>Jair, Caitlin</td></tr>",
                            "<tr><td>Jaquan, Aaron</td></tr>",
                            "<tr><td>Javen, Justin</td></tr>",
                            "<tr><td>Johnson, Vance</td></tr>",
                            "<tr><td>Jonessen, Moises</td></tr>",
                            "<tr><td>Josey, Lorena</td></tr>",
                            "<tr><td>Kaleigh, Erick</td></tr>",
                            "<tr><td>Kapil, Robert</td></tr>",
                            "<tr><td>Keeton, Gonzalo</td></tr>",
                            "<tr><td>Kerry, Rowan</td></tr>",
                            "<tr><td>Kraggin, Laura</td></tr>",
                            "<tr><td>Lacy, Karina</td></tr>",
                            "<tr><td>Lane, Vanesa</td></tr>",
                            "<tr><td>Lawrence, Eileen</td></tr>",
                            "<tr><td>Leigh, Bill</td></tr>",
                            "<tr><td>Lewis, Darnell</td></tr>",
                            "<tr><td>Liana, Lukas</td></tr>",
                            "<tr><td>Lloyd, Angel</td></tr>",
                            "<tr><td>Maegen, Ted</td></tr>",
                            "<tr><td>Maeve, Clarence</td></tr>",
                            "<tr><td>Marissa, Kyle</td></tr>",
                            "<tr><td>Marks, Michelle</td></tr>",
                            "<tr><td>Marques, Malia</td></tr>",
                            "<tr><td>Mauro, Anton</td></tr>",
                            "<tr><td>Maxwell, Jayda</td></tr>",
                            "<tr><td>Mayte, Kendall</td></tr>",
                            "<tr><td>Mckayla, Jeffery</td></tr>",
                            "<tr><td>Millerton, Johnathon</td></tr>",
                            "<tr><td>Misael, Kayle</td></tr>",
                            "<tr><td>Myles, Harley</td></tr>",
                            "<tr><td>Neftaly, Thalia</td></tr>",
                            "<tr><td>Neil, Ingrid</td></tr>",
                            "<tr><td>Nickalus, Kurt</td></tr>",
                            "<tr><td>Oren, Grace</td></tr>",
                            "<tr><td>Paris, Gideon</td></tr>",
                            "<tr><td>Pinsippi, Val</td></tr>",
                            "<tr><td>Potter, Lance</td></tr>",
                            "<tr><td>Prado, Anita</td></tr>",
                            "<tr><td>Quinn, Kenzie</td></tr>",
                            "<tr><td>Quintin, Marvin</td></tr>",
                            "<tr><td>Randall, Yash</td></tr>",
                            "<tr><td>Randrup, Leann</td></tr>",
                            "<tr><td>Raven, Jamari</td></tr>",
                            "<tr><td>Regging, Abe</td></tr>",
                            "<tr><td>Rodolfo, Carlee</td></tr>",
                            "<tr><td>Rohansen, Anders</td></tr>",
                            "<tr><td>Ronaldsen, Jaime</td></tr>",
                            "<tr><td>Rothman, Nathanael</td></tr>",
                            "<tr><td>Royce, Hannah</td></tr>",
                            "<tr><td>Smith, Kylie</td></tr>",
                            "<tr><td>Smith, Sam</td></tr>",
                            "<tr><td>Smitzen, Jeffrey</td></tr>",
                            "<tr><td>Snyder, Karen</td></tr>",
                            "<tr><td>Spivak, Harold</td></tr>",
                            "<tr><td>Stevens, Wendy</td></tr>",
                            "<tr><td>Story, Kirsten</td></tr>",
                            "<tr><td>Sydney, Deangelo</td></tr>",
                            "<tr><td>Walker, Jovon</td></tr>",
                            "<tr><td>Warren, Quentin</td></tr>",
                            "<tr><td>Wesley, Alisha</td></tr>",
                            "<tr><td>Wood, Liam</td></tr>",
                            "<tr><td>Yobani, Trey</td></tr>",
                            "</table>"
                        ]
                    }
                }
            ],
            "execution_count": 29
        },
        {
            "cell_type": "markdown",
            "source": [
                "4\\. Write a SELECT statement that returns three columns:  \n",
                "InvoiceTotal         From the Invoice table  \n",
                "10%                     10% of the value of InvoiceTotal  \n",
                "Plus 10%               The value of InvoiceTotal plus 10%\n",
                "\n",
                "(For example, if InvoiceTotal is 100.0000, 10% is 10.0000, and Plus 10% is 110.0000.) Only return those rows with a balance due greater than 1000. Sort the result set by InvoiceTotal, with the largest invoice first."
            ],
            "metadata": {
                "azdata_cell_guid": "acd9fa4e-74a9-42a8-8d9e-1065ef06a71d",
                "language": "sql"
            },
            "attachments": {}
        },
        {
            "cell_type": "code",
            "source": [
                "SELECT InvoiceTotal\n",
                "\t, InvoiceTotal * 0.10 AS [10%]\n",
                "\t, InvoiceTotal * 1.10 AS [Plus 10%]\n",
                "FROM Invoices\n",
                "WHERE InvoiceTotal - (PaymentTotal + CreditTotal) > 1000\n",
                "ORDER BY InvoiceTotal DESC;"
            ],
            "metadata": {
                "azdata_cell_guid": "fcb5cd33-ca7f-41ad-add5-c75a511f7f2a",
                "language": "sql"
            },
            "outputs": [
                {
                    "output_type": "display_data",
                    "data": {
                        "text/html": "(2 rows affected)"
                    },
                    "metadata": {}
                },
                {
                    "output_type": "display_data",
                    "data": {
                        "text/html": "Total execution time: 00:00:00.010"
                    },
                    "metadata": {}
                },
                {
                    "output_type": "execute_result",
                    "metadata": {},
                    "execution_count": 30,
                    "data": {
                        "application/vnd.dataresource+json": {
                            "schema": {
                                "fields": [
                                    {
                                        "name": "InvoiceTotal"
                                    },
                                    {
                                        "name": "10%"
                                    },
                                    {
                                        "name": "Plus 10%"
                                    }
                                ]
                            },
                            "data": [
                                {
                                    "InvoiceTotal": "20551.18",
                                    "10%": "2055.118000",
                                    "Plus 10%": "22606.298000"
                                },
                                {
                                    "InvoiceTotal": "10976.06",
                                    "10%": "1097.606000",
                                    "Plus 10%": "12073.666000"
                                }
                            ]
                        },
                        "text/html": [
                            "<table>",
                            "<tr><th>InvoiceTotal</th><th>10%</th><th>Plus 10%</th></tr>",
                            "<tr><td>20551.18</td><td>2055.118000</td><td>22606.298000</td></tr>",
                            "<tr><td>10976.06</td><td>1097.606000</td><td>12073.666000</td></tr>",
                            "</table>"
                        ]
                    }
                }
            ],
            "execution_count": 30
        },
        {
            "cell_type": "markdown",
            "source": [
                "5\\. Modify the solution to exercise 2 to filter for invoices with an InvoiceTotal that's greater than or equal to $500 but less than or equal to $10,000."
            ],
            "metadata": {
                "azdata_cell_guid": "eafc874a-df3f-4976-97b5-aadb29c78db1",
                "language": "sql"
            },
            "attachments": {}
        },
        {
            "cell_type": "code",
            "source": [
                "SELECT InvoiceNumber AS Number\n",
                "    , InvoiceTotal AS Total\n",
                "\t, PaymentTotal + CreditTotal AS Credits\n",
                "\t, InvoiceTotal - (PaymentTotal + CreditTotal) AS Balance\n",
                "FROM Invoices\n",
                "WHERE InvoiceTotal BETWEEN 500 AND 10000;"
            ],
            "metadata": {
                "azdata_cell_guid": "37b8a76b-0458-4f05-bad8-16635513ac6b",
                "language": "sql"
            },
            "outputs": [
                {
                    "output_type": "display_data",
                    "data": {
                        "text/html": "(33 rows affected)"
                    },
                    "metadata": {}
                },
                {
                    "output_type": "display_data",
                    "data": {
                        "text/html": "Total execution time: 00:00:00.003"
                    },
                    "metadata": {}
                },
                {
                    "output_type": "execute_result",
                    "metadata": {},
                    "execution_count": 31,
                    "data": {
                        "application/vnd.dataresource+json": {
                            "schema": {
                                "fields": [
                                    {
                                        "name": "Number"
                                    },
                                    {
                                        "name": "Total"
                                    },
                                    {
                                        "name": "Credits"
                                    },
                                    {
                                        "name": "Balance"
                                    }
                                ]
                            },
                            "data": [
                                {
                                    "Number": "989319-457",
                                    "Total": "3813.33",
                                    "Credits": "3813.33",
                                    "Balance": "0.00"
                                },
                                {
                                    "Number": "97/488",
                                    "Total": "601.95",
                                    "Credits": "601.95",
                                    "Balance": "0.00"
                                },
                                {
                                    "Number": "I77271-O01",
                                    "Total": "662.00",
                                    "Credits": "662.00",
                                    "Balance": "0.00"
                                },
                                {
                                    "Number": "P02-88D77S7",
                                    "Total": "856.92",
                                    "Credits": "856.92",
                                    "Balance": "0.00"
                                },
                                {
                                    "Number": "10843",
                                    "Total": "4901.26",
                                    "Credits": "4901.26",
                                    "Balance": "0.00"
                                },
                                {
                                    "Number": "77290",
                                    "Total": "1750.00",
                                    "Credits": "1750.00",
                                    "Balance": "0.00"
                                },
                                {
                                    "Number": "P02-3772",
                                    "Total": "7125.34",
                                    "Credits": "7125.34",
                                    "Balance": "0.00"
                                },
                                {
                                    "Number": "97/486",
                                    "Total": "953.10",
                                    "Credits": "953.10",
                                    "Balance": "0.00"
                                },
                                {
                                    "Number": "RTR-72-3662-X",
                                    "Total": "1600.00",
                                    "Credits": "1600.00",
                                    "Balance": "0.00"
                                },
                                {
                                    "Number": "97/465",
                                    "Total": "565.15",
                                    "Credits": "565.15",
                                    "Balance": "0.00"
                                },
                                {
                                    "Number": "97/503",
                                    "Total": "639.77",
                                    "Credits": "639.77",
                                    "Balance": "0.00"
                                },
                                {
                                    "Number": "989319-437",
                                    "Total": "2765.36",
                                    "Credits": "2765.36",
                                    "Balance": "0.00"
                                },
                                {
                                    "Number": "31359783",
                                    "Total": "1575.00",
                                    "Credits": "1575.00",
                                    "Balance": "0.00"
                                },
                                {
                                    "Number": "989319-477",
                                    "Total": "2184.11",
                                    "Credits": "2184.11",
                                    "Balance": "0.00"
                                },
                                {
                                    "Number": "Q545443",
                                    "Total": "1083.58",
                                    "Credits": "1083.58",
                                    "Balance": "0.00"
                                },
                                {
                                    "Number": "367447",
                                    "Total": "2433.00",
                                    "Credits": "2433.00",
                                    "Balance": "0.00"
                                },
                                {
                                    "Number": "75C-90227",
                                    "Total": "1367.50",
                                    "Credits": "1367.50",
                                    "Balance": "0.00"
                                },
                                {
                                    "Number": "989319-497",
                                    "Total": "2312.20",
                                    "Credits": "2312.20",
                                    "Balance": "0.00"
                                },
                                {
                                    "Number": "989319-427",
                                    "Total": "2115.81",
                                    "Credits": "2115.81",
                                    "Balance": "0.00"
                                },
                                {
                                    "Number": "509786",
                                    "Total": "6940.25",
                                    "Credits": "6940.25",
                                    "Balance": "0.00"
                                },
                                {
                                    "Number": "989319-487",
                                    "Total": "1927.54",
                                    "Credits": "1927.54",
                                    "Balance": "0.00"
                                },
                                {
                                    "Number": "MABO1489",
                                    "Total": "936.93",
                                    "Credits": "936.93",
                                    "Balance": "0.00"
                                },
                                {
                                    "Number": "97/553",
                                    "Total": "904.14",
                                    "Credits": "904.14",
                                    "Balance": "0.00"
                                },
                                {
                                    "Number": "97/522",
                                    "Total": "1962.13",
                                    "Credits": "1962.13",
                                    "Balance": "0.00"
                                },
                                {
                                    "Number": "587056",
                                    "Total": "2184.50",
                                    "Credits": "2184.50",
                                    "Balance": "0.00"
                                },
                                {
                                    "Number": "989319-467",
                                    "Total": "2318.03",
                                    "Credits": "2318.03",
                                    "Balance": "0.00"
                                },
                                {
                                    "Number": "963253230",
                                    "Total": "739.20",
                                    "Credits": "739.20",
                                    "Balance": "0.00"
                                },
                                {
                                    "Number": "C73-24",
                                    "Total": "600.00",
                                    "Credits": "600.00",
                                    "Balance": "0.00"
                                },
                                {
                                    "Number": "31361833",
                                    "Total": "579.42",
                                    "Credits": "0.00",
                                    "Balance": "579.42"
                                },
                                {
                                    "Number": "989319-417",
                                    "Total": "2051.59",
                                    "Credits": "2051.59",
                                    "Balance": "0.00"
                                },
                                {
                                    "Number": "9982771",
                                    "Total": "503.20",
                                    "Credits": "0.00",
                                    "Balance": "503.20"
                                },
                                {
                                    "Number": "989319-447",
                                    "Total": "3689.99",
                                    "Credits": "3689.99",
                                    "Balance": "0.00"
                                },
                                {
                                    "Number": "97/222",
                                    "Total": "1000.46",
                                    "Credits": "1000.46",
                                    "Balance": "0.00"
                                }
                            ]
                        },
                        "text/html": [
                            "<table>",
                            "<tr><th>Number</th><th>Total</th><th>Credits</th><th>Balance</th></tr>",
                            "<tr><td>989319-457</td><td>3813.33</td><td>3813.33</td><td>0.00</td></tr>",
                            "<tr><td>97/488</td><td>601.95</td><td>601.95</td><td>0.00</td></tr>",
                            "<tr><td>I77271-O01</td><td>662.00</td><td>662.00</td><td>0.00</td></tr>",
                            "<tr><td>P02-88D77S7</td><td>856.92</td><td>856.92</td><td>0.00</td></tr>",
                            "<tr><td>10843</td><td>4901.26</td><td>4901.26</td><td>0.00</td></tr>",
                            "<tr><td>77290</td><td>1750.00</td><td>1750.00</td><td>0.00</td></tr>",
                            "<tr><td>P02-3772</td><td>7125.34</td><td>7125.34</td><td>0.00</td></tr>",
                            "<tr><td>97/486</td><td>953.10</td><td>953.10</td><td>0.00</td></tr>",
                            "<tr><td>RTR-72-3662-X</td><td>1600.00</td><td>1600.00</td><td>0.00</td></tr>",
                            "<tr><td>97/465</td><td>565.15</td><td>565.15</td><td>0.00</td></tr>",
                            "<tr><td>97/503</td><td>639.77</td><td>639.77</td><td>0.00</td></tr>",
                            "<tr><td>989319-437</td><td>2765.36</td><td>2765.36</td><td>0.00</td></tr>",
                            "<tr><td>31359783</td><td>1575.00</td><td>1575.00</td><td>0.00</td></tr>",
                            "<tr><td>989319-477</td><td>2184.11</td><td>2184.11</td><td>0.00</td></tr>",
                            "<tr><td>Q545443</td><td>1083.58</td><td>1083.58</td><td>0.00</td></tr>",
                            "<tr><td>367447</td><td>2433.00</td><td>2433.00</td><td>0.00</td></tr>",
                            "<tr><td>75C-90227</td><td>1367.50</td><td>1367.50</td><td>0.00</td></tr>",
                            "<tr><td>989319-497</td><td>2312.20</td><td>2312.20</td><td>0.00</td></tr>",
                            "<tr><td>989319-427</td><td>2115.81</td><td>2115.81</td><td>0.00</td></tr>",
                            "<tr><td>509786</td><td>6940.25</td><td>6940.25</td><td>0.00</td></tr>",
                            "<tr><td>989319-487</td><td>1927.54</td><td>1927.54</td><td>0.00</td></tr>",
                            "<tr><td>MABO1489</td><td>936.93</td><td>936.93</td><td>0.00</td></tr>",
                            "<tr><td>97/553</td><td>904.14</td><td>904.14</td><td>0.00</td></tr>",
                            "<tr><td>97/522</td><td>1962.13</td><td>1962.13</td><td>0.00</td></tr>",
                            "<tr><td>587056</td><td>2184.50</td><td>2184.50</td><td>0.00</td></tr>",
                            "<tr><td>989319-467</td><td>2318.03</td><td>2318.03</td><td>0.00</td></tr>",
                            "<tr><td>963253230</td><td>739.20</td><td>739.20</td><td>0.00</td></tr>",
                            "<tr><td>C73-24</td><td>600.00</td><td>600.00</td><td>0.00</td></tr>",
                            "<tr><td>31361833</td><td>579.42</td><td>0.00</td><td>579.42</td></tr>",
                            "<tr><td>989319-417</td><td>2051.59</td><td>2051.59</td><td>0.00</td></tr>",
                            "<tr><td>9982771</td><td>503.20</td><td>0.00</td><td>503.20</td></tr>",
                            "<tr><td>989319-447</td><td>3689.99</td><td>3689.99</td><td>0.00</td></tr>",
                            "<tr><td>97/222</td><td>1000.46</td><td>1000.46</td><td>0.00</td></tr>",
                            "</table>"
                        ]
                    }
                }
            ],
            "execution_count": 31
        },
        {
            "cell_type": "markdown",
            "source": [
                "6\\. Modify the solution to exercise 3 to filter for contacts whose last name begins with the letter A, B, C, or E."
            ],
            "metadata": {
                "azdata_cell_guid": "3cec16ab-6115-478b-97ca-dabac7154548",
                "language": "sql"
            },
            "attachments": {}
        },
        {
            "cell_type": "code",
            "source": [
                "SELECT VendorContactLName + ', ' + VendorContactFName AS [Full Name]\n",
                "FROM Vendors\n",
                "WHERE VendorContactLName LIKE '[ABCE]%'\n",
                "ORDER BY VendorContactLName\n",
                "\t, VendorContactFName;"
            ],
            "metadata": {
                "azdata_cell_guid": "a4f4eb3d-9ae6-48e0-ae2d-565a6221c0f1",
                "language": "sql"
            },
            "outputs": [
                {
                    "output_type": "display_data",
                    "data": {
                        "text/html": "(41 rows affected)"
                    },
                    "metadata": {}
                },
                {
                    "output_type": "display_data",
                    "data": {
                        "text/html": "Total execution time: 00:00:00.008"
                    },
                    "metadata": {}
                },
                {
                    "output_type": "execute_result",
                    "metadata": {},
                    "execution_count": 32,
                    "data": {
                        "application/vnd.dataresource+json": {
                            "schema": {
                                "fields": [
                                    {
                                        "name": "Full Name"
                                    }
                                ]
                            },
                            "data": [
                                {
                                    "Full Name": "Aaronsen, Thom"
                                },
                                {
                                    "Full Name": "Aileen, Joan"
                                },
                                {
                                    "Full Name": "Alberto, Francesco"
                                },
                                {
                                    "Full Name": "Alexis, Alexandro"
                                },
                                {
                                    "Full Name": "Alondra, Zev"
                                },
                                {
                                    "Full Name": "Angelica, Nashalie"
                                },
                                {
                                    "Full Name": "Antavius, Troy"
                                },
                                {
                                    "Full Name": "Anthoni, Kaitlyn"
                                },
                                {
                                    "Full Name": "Anum, Trisha"
                                },
                                {
                                    "Full Name": "Aranovitch, Robert"
                                },
                                {
                                    "Full Name": "Armando, Jan"
                                },
                                {
                                    "Full Name": "Arodondo, Cesar"
                                },
                                {
                                    "Full Name": "Articunia, Mercedez"
                                },
                                {
                                    "Full Name": "Aryn, Leroy"
                                },
                                {
                                    "Full Name": "Baylee, Dakota"
                                },
                                {
                                    "Full Name": "Beauregard, Violet"
                                },
                                {
                                    "Full Name": "Bernard, Lucy"
                                },
                                {
                                    "Full Name": "Bernardo, Brittnee"
                                },
                                {
                                    "Full Name": "Blanca, Korah"
                                },
                                {
                                    "Full Name": "Bluzinski, Rachael"
                                },
                                {
                                    "Full Name": "Bradlee, Daniel"
                                },
                                {
                                    "Full Name": "Bragg, Walter"
                                },
                                {
                                    "Full Name": "Braydon, Anne"
                                },
                                {
                                    "Full Name": "Brenton, Kila"
                                },
                                {
                                    "Full Name": "Brooklynn, Keely"
                                },
                                {
                                    "Full Name": "Bucket, Charlie"
                                },
                                {
                                    "Full Name": "Camron, Trentin"
                                },
                                {
                                    "Full Name": "Carrollton, Priscilla"
                                },
                                {
                                    "Full Name": "Carson, Julian"
                                },
                                {
                                    "Full Name": "Chaddick, Derek"
                                },
                                {
                                    "Full Name": "Cheyenne, Kaylea"
                                },
                                {
                                    "Full Name": "Church, Charlie"
                                },
                                {
                                    "Full Name": "Clifford, Jillian"
                                },
                                {
                                    "Full Name": "Colette, Dusty"
                                },
                                {
                                    "Full Name": "Colton, Leah"
                                },
                                {
                                    "Full Name": "Edgardo, Salina"
                                },
                                {
                                    "Full Name": "Eliana, Nikolas"
                                },
                                {
                                    "Full Name": "Elmert, Ron"
                                },
                                {
                                    "Full Name": "Essence, Marjorie"
                                },
                                {
                                    "Full Name": "Eulalia, Kelsey"
                                },
                                {
                                    "Full Name": "Evan, Emily"
                                }
                            ]
                        },
                        "text/html": [
                            "<table>",
                            "<tr><th>Full Name</th></tr>",
                            "<tr><td>Aaronsen, Thom</td></tr>",
                            "<tr><td>Aileen, Joan</td></tr>",
                            "<tr><td>Alberto, Francesco</td></tr>",
                            "<tr><td>Alexis, Alexandro</td></tr>",
                            "<tr><td>Alondra, Zev</td></tr>",
                            "<tr><td>Angelica, Nashalie</td></tr>",
                            "<tr><td>Antavius, Troy</td></tr>",
                            "<tr><td>Anthoni, Kaitlyn</td></tr>",
                            "<tr><td>Anum, Trisha</td></tr>",
                            "<tr><td>Aranovitch, Robert</td></tr>",
                            "<tr><td>Armando, Jan</td></tr>",
                            "<tr><td>Arodondo, Cesar</td></tr>",
                            "<tr><td>Articunia, Mercedez</td></tr>",
                            "<tr><td>Aryn, Leroy</td></tr>",
                            "<tr><td>Baylee, Dakota</td></tr>",
                            "<tr><td>Beauregard, Violet</td></tr>",
                            "<tr><td>Bernard, Lucy</td></tr>",
                            "<tr><td>Bernardo, Brittnee</td></tr>",
                            "<tr><td>Blanca, Korah</td></tr>",
                            "<tr><td>Bluzinski, Rachael</td></tr>",
                            "<tr><td>Bradlee, Daniel</td></tr>",
                            "<tr><td>Bragg, Walter</td></tr>",
                            "<tr><td>Braydon, Anne</td></tr>",
                            "<tr><td>Brenton, Kila</td></tr>",
                            "<tr><td>Brooklynn, Keely</td></tr>",
                            "<tr><td>Bucket, Charlie</td></tr>",
                            "<tr><td>Camron, Trentin</td></tr>",
                            "<tr><td>Carrollton, Priscilla</td></tr>",
                            "<tr><td>Carson, Julian</td></tr>",
                            "<tr><td>Chaddick, Derek</td></tr>",
                            "<tr><td>Cheyenne, Kaylea</td></tr>",
                            "<tr><td>Church, Charlie</td></tr>",
                            "<tr><td>Clifford, Jillian</td></tr>",
                            "<tr><td>Colette, Dusty</td></tr>",
                            "<tr><td>Colton, Leah</td></tr>",
                            "<tr><td>Edgardo, Salina</td></tr>",
                            "<tr><td>Eliana, Nikolas</td></tr>",
                            "<tr><td>Elmert, Ron</td></tr>",
                            "<tr><td>Essence, Marjorie</td></tr>",
                            "<tr><td>Eulalia, Kelsey</td></tr>",
                            "<tr><td>Evan, Emily</td></tr>",
                            "</table>"
                        ]
                    }
                }
            ],
            "execution_count": 32
        },
        {
            "cell_type": "markdown",
            "source": [
                "<span style=\"caret-color: rgb(45, 59, 69); color: rgb(45, 59, 69); font-family: &quot;Lato Extended&quot;, Lato, &quot;Helvetica Neue&quot;, Helvetica, Arial, sans-serif; font-size: 16px; background-color: rgb(255, 255, 255);\">7. Write a SELECT statement that determines whether the PaymentDate column of the Invoices table has any invalid values. To be valid, PaymentDate must be a null value if there's a balance due and a non-null value if there's no balance due. Code a compound condition in the WHERE clause that tests for these conditions.</span>"
            ],
            "metadata": {
                "azdata_cell_guid": "296ddbce-e167-45b6-89c1-402a12667988",
                "language": "sql"
            },
            "attachments": {}
        },
        {
            "cell_type": "code",
            "source": [
                "SELECT COUNT(*) AS [Invalid PaymentDate Records]\n",
                "FROM Invoices\n",
                "WHERE (\n",
                "\t\tInvoiceTotal - (PaymentTotal + CreditTotal) = 0\n",
                "\t\tAND PaymentDate IS NULL\n",
                "\t\t)\n",
                "\tOR (\n",
                "\t\tInvoiceTotal - (PaymentTotal + CreditTotal) > 0\n",
                "\t\tAND PaymentDate IS NOT NULL\n",
                "\t\t);"
            ],
            "metadata": {
                "azdata_cell_guid": "a7450313-2013-4b92-b1bb-6730e6e0633e",
                "language": "sql"
            },
            "outputs": [
                {
                    "output_type": "display_data",
                    "data": {
                        "text/html": "(1 row affected)"
                    },
                    "metadata": {}
                },
                {
                    "output_type": "display_data",
                    "data": {
                        "text/html": "Total execution time: 00:00:00.002"
                    },
                    "metadata": {}
                },
                {
                    "output_type": "execute_result",
                    "metadata": {},
                    "execution_count": 33,
                    "data": {
                        "application/vnd.dataresource+json": {
                            "schema": {
                                "fields": [
                                    {
                                        "name": "Invalid PaymentDate Records"
                                    }
                                ]
                            },
                            "data": [
                                {
                                    "Invalid PaymentDate Records": "0"
                                }
                            ]
                        },
                        "text/html": [
                            "<table>",
                            "<tr><th>Invalid PaymentDate Records</th></tr>",
                            "<tr><td>0</td></tr>",
                            "</table>"
                        ]
                    }
                }
            ],
            "execution_count": 33
        }
    ]
}