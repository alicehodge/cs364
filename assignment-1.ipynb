{
    "metadata": {
        "kernelspec": {
            "name": "SQL",
            "display_name": "SQL",
            "language": "sql"
        },
        "language_info": {
            "name": "sql",
            "version": ""
        }
    },
    "nbformat_minor": 2,
    "nbformat": 4,
    "cells": [
        {
            "cell_type": "markdown",
            "source": [
                "1. Write a SELECT statement that returns four columns from the Products table: ProductCode, ProductName, ListPrice, and DiscountPercent. Then, run this statement to make sure it works correctly.\n",
                "\n",
                "Add an ORDER BY clause to this statement that sorts the result set by list price in descending sequence. Then, run this statement again to make sure it works correctly. This is a good way to build and test a statement, one clause at a time."
            ],
            "metadata": {
                "azdata_cell_guid": "e7724cf8-99e7-463f-bff0-8bb59168849c"
            },
            "attachments": {}
        },
        {
            "cell_type": "code",
            "source": [
                "SELECT ProductCode\n",
                "    , ProductName\n",
                "    , ListPrice\n",
                "    , DiscountPercent\n",
                "FROM Products\n",
                "ORDER BY ListPrice DESC;"
            ],
            "metadata": {
                "azdata_cell_guid": "0391a7aa-4c0a-4ea8-bba0-eaab68d104c6",
                "language": "sql"
            },
            "outputs": [
                {
                    "output_type": "display_data",
                    "data": {
                        "text/html": "(10 rows affected)"
                    },
                    "metadata": {}
                },
                {
                    "output_type": "display_data",
                    "data": {
                        "text/html": "Total execution time: 00:00:00.005"
                    },
                    "metadata": {}
                },
                {
                    "output_type": "execute_result",
                    "metadata": {},
                    "execution_count": 33,
                    "data": {
                        "application/vnd.dataresource+json": {
                            "schema": {
                                "fields": [
                                    {
                                        "name": "ProductCode"
                                    },
                                    {
                                        "name": "ProductName"
                                    },
                                    {
                                        "name": "ListPrice"
                                    },
                                    {
                                        "name": "DiscountPercent"
                                    }
                                ]
                            },
                            "data": [
                                {
                                    "ProductCode": "sg",
                                    "ProductName": "Gibson SG",
                                    "ListPrice": "2517.00",
                                    "DiscountPercent": "52.00"
                                },
                                {
                                    "ProductCode": "les_paul",
                                    "ProductName": "Gibson Les Paul",
                                    "ListPrice": "1199.00",
                                    "DiscountPercent": "30.00"
                                },
                                {
                                    "ProductCode": "precision",
                                    "ProductName": "Fender Precision",
                                    "ListPrice": "799.99",
                                    "DiscountPercent": "30.00"
                                },
                                {
                                    "ProductCode": "tama",
                                    "ProductName": "Tama 5-Piece Drum Set with Cymbals",
                                    "ListPrice": "799.99",
                                    "DiscountPercent": "15.00"
                                },
                                {
                                    "ProductCode": "ludwig",
                                    "ProductName": "Ludwig 5-piece Drum Set with Cymbals",
                                    "ListPrice": "699.99",
                                    "DiscountPercent": "30.00"
                                },
                                {
                                    "ProductCode": "strat",
                                    "ProductName": "Fender Stratocaster",
                                    "ListPrice": "699.00",
                                    "DiscountPercent": "30.00"
                                },
                                {
                                    "ProductCode": "hofner",
                                    "ProductName": "Hofner Icon",
                                    "ListPrice": "499.99",
                                    "DiscountPercent": "25.00"
                                },
                                {
                                    "ProductCode": "fg700s",
                                    "ProductName": "Yamaha FG700S",
                                    "ListPrice": "489.99",
                                    "DiscountPercent": "38.00"
                                },
                                {
                                    "ProductCode": "rodriguez",
                                    "ProductName": "Rodriguez Caballero 11",
                                    "ListPrice": "415.00",
                                    "DiscountPercent": "39.00"
                                },
                                {
                                    "ProductCode": "washburn",
                                    "ProductName": "Washburn D10S",
                                    "ListPrice": "299.00",
                                    "DiscountPercent": "0.00"
                                }
                            ]
                        },
                        "text/html": [
                            "<table>",
                            "<tr><th>ProductCode</th><th>ProductName</th><th>ListPrice</th><th>DiscountPercent</th></tr>",
                            "<tr><td>sg</td><td>Gibson SG</td><td>2517.00</td><td>52.00</td></tr>",
                            "<tr><td>les_paul</td><td>Gibson Les Paul</td><td>1199.00</td><td>30.00</td></tr>",
                            "<tr><td>precision</td><td>Fender Precision</td><td>799.99</td><td>30.00</td></tr>",
                            "<tr><td>tama</td><td>Tama 5-Piece Drum Set with Cymbals</td><td>799.99</td><td>15.00</td></tr>",
                            "<tr><td>ludwig</td><td>Ludwig 5-piece Drum Set with Cymbals</td><td>699.99</td><td>30.00</td></tr>",
                            "<tr><td>strat</td><td>Fender Stratocaster</td><td>699.00</td><td>30.00</td></tr>",
                            "<tr><td>hofner</td><td>Hofner Icon</td><td>499.99</td><td>25.00</td></tr>",
                            "<tr><td>fg700s</td><td>Yamaha FG700S</td><td>489.99</td><td>38.00</td></tr>",
                            "<tr><td>rodriguez</td><td>Rodriguez Caballero 11</td><td>415.00</td><td>39.00</td></tr>",
                            "<tr><td>washburn</td><td>Washburn D10S</td><td>299.00</td><td>0.00</td></tr>",
                            "</table>"
                        ]
                    }
                }
            ],
            "execution_count": 33
        },
        {
            "cell_type": "markdown",
            "source": [
                "2. Write a SELECT statement that returns one column from the Customers table named FullName that joins the LastName and FirstName columns.\n",
                "\n",
                "Format this column with the last name, a comma, a space, and the first name like this:\n",
                "\n",
                "Doe, John\n",
                "\n",
                "Sort the result set by last name in ascending sequence.\n",
                "\n",
                "Return only the customers whose last name begins with a letter from M to Z."
            ],
            "metadata": {
                "azdata_cell_guid": "483f2d4a-43c2-42f1-b81f-28ff34bc4645"
            },
            "attachments": {}
        },
        {
            "cell_type": "code",
            "source": [
                "SELECT LastName + ', ' + FirstName AS FullName\n",
                "FROM Customers\n",
                "WHERE LastName LIKE '[M-Z]%'\n",
                "ORDER BY LastName ASC;"
            ],
            "metadata": {
                "azdata_cell_guid": "4d5ed4da-13ee-43fc-8ebf-f6ac1453e969",
                "language": "sql"
            },
            "outputs": [
                {
                    "output_type": "display_data",
                    "data": {
                        "text/html": "(4 rows affected)"
                    },
                    "metadata": {}
                },
                {
                    "output_type": "display_data",
                    "data": {
                        "text/html": "Total execution time: 00:00:00.003"
                    },
                    "metadata": {}
                },
                {
                    "output_type": "execute_result",
                    "metadata": {},
                    "execution_count": 34,
                    "data": {
                        "application/vnd.dataresource+json": {
                            "schema": {
                                "fields": [
                                    {
                                        "name": "FullName"
                                    }
                                ]
                            },
                            "data": [
                                {
                                    "FullName": "Sherwood, Allan"
                                },
                                {
                                    "FullName": "Valentino, Erin"
                                },
                                {
                                    "FullName": "Wilson, Frank Lee"
                                },
                                {
                                    "FullName": "Zimmer, Barry"
                                }
                            ]
                        },
                        "text/html": [
                            "<table>",
                            "<tr><th>FullName</th></tr>",
                            "<tr><td>Sherwood, Allan</td></tr>",
                            "<tr><td>Valentino, Erin</td></tr>",
                            "<tr><td>Wilson, Frank Lee</td></tr>",
                            "<tr><td>Zimmer, Barry</td></tr>",
                            "</table>"
                        ]
                    }
                }
            ],
            "execution_count": 34
        },
        {
            "cell_type": "markdown",
            "source": [
                "3. Write a SELECT statement that returns these column names and data from the Products table:\n",
                "\n",
                "ProductName               The ProductName column\n",
                "\n",
                "ListPrice                       The ListPrice column\n",
                "\n",
                "DateAdded                   The DateAdded column\n",
                "\n",
                "Return only the rows with a list price that’s greater than 500 and less than 2000.\n",
                "\n",
                "Sort the result set in descending sequence by the DateAdded column."
            ],
            "metadata": {
                "azdata_cell_guid": "0e771806-41af-4528-a803-ca15f859bb83"
            },
            "attachments": {}
        },
        {
            "cell_type": "code",
            "source": [
                "SELECT ProductName\n",
                "    , ListPrice\n",
                "    , DateAdded\n",
                "FROM Products\n",
                "WHERE ListPrice > 500\n",
                "    AND ListPrice < 2000\n",
                "ORDER BY DateAdded DESC;"
            ],
            "metadata": {
                "azdata_cell_guid": "9e991ec5-7d48-41e1-8cb6-6dd3f0f068e4",
                "language": "sql"
            },
            "outputs": [
                {
                    "output_type": "display_data",
                    "data": {
                        "text/html": "(5 rows affected)"
                    },
                    "metadata": {}
                },
                {
                    "output_type": "display_data",
                    "data": {
                        "text/html": "Total execution time: 00:00:00.004"
                    },
                    "metadata": {}
                },
                {
                    "output_type": "execute_result",
                    "metadata": {},
                    "execution_count": 35,
                    "data": {
                        "application/vnd.dataresource+json": {
                            "schema": {
                                "fields": [
                                    {
                                        "name": "ProductName"
                                    },
                                    {
                                        "name": "ListPrice"
                                    },
                                    {
                                        "name": "DateAdded"
                                    }
                                ]
                            },
                            "data": [
                                {
                                    "ProductName": "Tama 5-Piece Drum Set with Cymbals",
                                    "ListPrice": "799.99",
                                    "DateAdded": "2012-07-30 13:14:15.000"
                                },
                                {
                                    "ProductName": "Ludwig 5-piece Drum Set with Cymbals",
                                    "ListPrice": "699.99",
                                    "DateAdded": "2012-07-30 12:46:40.000"
                                },
                                {
                                    "ProductName": "Fender Precision",
                                    "ListPrice": "799.99",
                                    "DateAdded": "2012-06-01 11:29:35.000"
                                },
                                {
                                    "ProductName": "Gibson Les Paul",
                                    "ListPrice": "1199.00",
                                    "DateAdded": "2011-12-05 16:33:13.000"
                                },
                                {
                                    "ProductName": "Fender Stratocaster",
                                    "ListPrice": "699.00",
                                    "DateAdded": "2011-10-30 09:32:40.000"
                                }
                            ]
                        },
                        "text/html": [
                            "<table>",
                            "<tr><th>ProductName</th><th>ListPrice</th><th>DateAdded</th></tr>",
                            "<tr><td>Tama 5-Piece Drum Set with Cymbals</td><td>799.99</td><td>2012-07-30 13:14:15.000</td></tr>",
                            "<tr><td>Ludwig 5-piece Drum Set with Cymbals</td><td>699.99</td><td>2012-07-30 12:46:40.000</td></tr>",
                            "<tr><td>Fender Precision</td><td>799.99</td><td>2012-06-01 11:29:35.000</td></tr>",
                            "<tr><td>Gibson Les Paul</td><td>1199.00</td><td>2011-12-05 16:33:13.000</td></tr>",
                            "<tr><td>Fender Stratocaster</td><td>699.00</td><td>2011-10-30 09:32:40.000</td></tr>",
                            "</table>"
                        ]
                    }
                }
            ],
            "execution_count": 35
        },
        {
            "cell_type": "markdown",
            "source": [
                "4. Write a SELECT statement that returns these column names and data from the Products table:\n",
                "\n",
                "ProductName               The ProductName column\n",
                "\n",
                "ListPrice                       The ListPrice column\n",
                "\n",
                "DiscountPercent           The DiscountPercent column\n",
                "\n",
                "DiscountAmount          A column that’s calculated from the previous two columns\n",
                "\n",
                "DiscountPrice               A column that’s calculated from the previous three columns\n",
                "\n",
                "Sort the result set by discount price in descending sequence."
            ],
            "metadata": {
                "azdata_cell_guid": "37f44c2f-76a9-442a-868d-1367229a9db8"
            },
            "attachments": {}
        },
        {
            "cell_type": "code",
            "source": [
                "SELECT ProductName\n",
                "    , ListPrice\n",
                "    , DiscountPercent\n",
                "    , ListPrice * (DiscountPercent / 100) AS DiscountAmount\n",
                "    , ListPrice - (ListPrice * (DiscountPercent / 100)) AS DiscountPrice\n",
                "FROM Products\n",
                "ORDER BY DiscountPrice DESC;"
            ],
            "metadata": {
                "azdata_cell_guid": "7a89f8dc-3a36-407e-8919-cee21bb84ef9",
                "language": "sql",
                "tags": []
            },
            "outputs": [
                {
                    "output_type": "display_data",
                    "data": {
                        "text/html": "(10 rows affected)"
                    },
                    "metadata": {}
                },
                {
                    "output_type": "display_data",
                    "data": {
                        "text/html": "Total execution time: 00:00:00.011"
                    },
                    "metadata": {}
                },
                {
                    "output_type": "execute_result",
                    "metadata": {},
                    "execution_count": 36,
                    "data": {
                        "application/vnd.dataresource+json": {
                            "schema": {
                                "fields": [
                                    {
                                        "name": "ProductName"
                                    },
                                    {
                                        "name": "ListPrice"
                                    },
                                    {
                                        "name": "DiscountPercent"
                                    },
                                    {
                                        "name": "DiscountAmount"
                                    },
                                    {
                                        "name": "DiscountPrice"
                                    }
                                ]
                            },
                            "data": [
                                {
                                    "ProductName": "Gibson SG",
                                    "ListPrice": "2517.00",
                                    "DiscountPercent": "52.00",
                                    "DiscountAmount": "1308.84",
                                    "DiscountPrice": "1208.16"
                                },
                                {
                                    "ProductName": "Gibson Les Paul",
                                    "ListPrice": "1199.00",
                                    "DiscountPercent": "30.00",
                                    "DiscountAmount": "359.70",
                                    "DiscountPrice": "839.30"
                                },
                                {
                                    "ProductName": "Tama 5-Piece Drum Set with Cymbals",
                                    "ListPrice": "799.99",
                                    "DiscountPercent": "15.00",
                                    "DiscountAmount": "119.9985",
                                    "DiscountPrice": "679.9915"
                                },
                                {
                                    "ProductName": "Fender Precision",
                                    "ListPrice": "799.99",
                                    "DiscountPercent": "30.00",
                                    "DiscountAmount": "239.997",
                                    "DiscountPrice": "559.993"
                                },
                                {
                                    "ProductName": "Ludwig 5-piece Drum Set with Cymbals",
                                    "ListPrice": "699.99",
                                    "DiscountPercent": "30.00",
                                    "DiscountAmount": "209.997",
                                    "DiscountPrice": "489.993"
                                },
                                {
                                    "ProductName": "Fender Stratocaster",
                                    "ListPrice": "699.00",
                                    "DiscountPercent": "30.00",
                                    "DiscountAmount": "209.70",
                                    "DiscountPrice": "489.30"
                                },
                                {
                                    "ProductName": "Hofner Icon",
                                    "ListPrice": "499.99",
                                    "DiscountPercent": "25.00",
                                    "DiscountAmount": "124.9975",
                                    "DiscountPrice": "374.9925"
                                },
                                {
                                    "ProductName": "Yamaha FG700S",
                                    "ListPrice": "489.99",
                                    "DiscountPercent": "38.00",
                                    "DiscountAmount": "186.1962",
                                    "DiscountPrice": "303.7938"
                                },
                                {
                                    "ProductName": "Washburn D10S",
                                    "ListPrice": "299.00",
                                    "DiscountPercent": "0.00",
                                    "DiscountAmount": "0.00",
                                    "DiscountPrice": "299.00"
                                },
                                {
                                    "ProductName": "Rodriguez Caballero 11",
                                    "ListPrice": "415.00",
                                    "DiscountPercent": "39.00",
                                    "DiscountAmount": "161.85",
                                    "DiscountPrice": "253.15"
                                }
                            ]
                        },
                        "text/html": [
                            "<table>",
                            "<tr><th>ProductName</th><th>ListPrice</th><th>DiscountPercent</th><th>DiscountAmount</th><th>DiscountPrice</th></tr>",
                            "<tr><td>Gibson SG</td><td>2517.00</td><td>52.00</td><td>1308.84</td><td>1208.16</td></tr>",
                            "<tr><td>Gibson Les Paul</td><td>1199.00</td><td>30.00</td><td>359.70</td><td>839.30</td></tr>",
                            "<tr><td>Tama 5-Piece Drum Set with Cymbals</td><td>799.99</td><td>15.00</td><td>119.9985</td><td>679.9915</td></tr>",
                            "<tr><td>Fender Precision</td><td>799.99</td><td>30.00</td><td>239.997</td><td>559.993</td></tr>",
                            "<tr><td>Ludwig 5-piece Drum Set with Cymbals</td><td>699.99</td><td>30.00</td><td>209.997</td><td>489.993</td></tr>",
                            "<tr><td>Fender Stratocaster</td><td>699.00</td><td>30.00</td><td>209.70</td><td>489.30</td></tr>",
                            "<tr><td>Hofner Icon</td><td>499.99</td><td>25.00</td><td>124.9975</td><td>374.9925</td></tr>",
                            "<tr><td>Yamaha FG700S</td><td>489.99</td><td>38.00</td><td>186.1962</td><td>303.7938</td></tr>",
                            "<tr><td>Washburn D10S</td><td>299.00</td><td>0.00</td><td>0.00</td><td>299.00</td></tr>",
                            "<tr><td>Rodriguez Caballero 11</td><td>415.00</td><td>39.00</td><td>161.85</td><td>253.15</td></tr>",
                            "</table>"
                        ]
                    }
                }
            ],
            "execution_count": 36
        },
        {
            "cell_type": "markdown",
            "source": [
                "5. Write a SELECT statement that returns these column names and data from the OrderItems table:\n",
                "\n",
                "ItemID                         The ItemID column\n",
                "\n",
                "ItemPrice                     The ItemPrice column\n",
                "\n",
                "DiscountAmount          The DiscountAmount column\n",
                "\n",
                "Quantity                       The Quantity column\n",
                "\n",
                "PriceTotal                    A column that’s calculated by multiplying the item price by the quantity\n",
                "\n",
                "DiscountTotal              A column that’s calculated by multiplying the discount amount by the quantity\n",
                "\n",
                "ItemTotal                     A column that’s calculated by subtracting the discount amount from the item price and then multiplying by the quantity\n",
                "\n",
                "Only return rows where the ItemTotal is greater than 500.\n",
                "\n",
                "Sort the result set by item total in descending sequence."
            ],
            "metadata": {
                "azdata_cell_guid": "c4de7579-8319-42e7-9491-e563d1a1ea37"
            },
            "attachments": {}
        },
        {
            "cell_type": "code",
            "source": [
                "SELECT ItemID\n",
                "    , ItemPrice\n",
                "    , DiscountAmount\n",
                "    , Quantity\n",
                "    , ItemPrice * Quantity AS PriceTotal\n",
                "    , DiscountAmount * Quantity AS DiscountTotal\n",
                "    , (ItemPrice - DiscountAmount) * Quantity AS ItemTotal\n",
                "FROM OrderItems\n",
                "WHERE (ItemPrice - DiscountAmount) * Quantity > 500\n",
                "ORDER BY ItemTotal DESC;"
            ],
            "metadata": {
                "azdata_cell_guid": "53d92bcd-3459-4544-9a59-35a623157f35",
                "language": "sql"
            },
            "outputs": [
                {
                    "output_type": "display_data",
                    "data": {
                        "text/html": "(5 rows affected)"
                    },
                    "metadata": {}
                },
                {
                    "output_type": "display_data",
                    "data": {
                        "text/html": "Total execution time: 00:00:00.003"
                    },
                    "metadata": {}
                },
                {
                    "output_type": "execute_result",
                    "metadata": {},
                    "execution_count": 37,
                    "data": {
                        "application/vnd.dataresource+json": {
                            "schema": {
                                "fields": [
                                    {
                                        "name": "ItemID"
                                    },
                                    {
                                        "name": "ItemPrice"
                                    },
                                    {
                                        "name": "DiscountAmount"
                                    },
                                    {
                                        "name": "Quantity"
                                    },
                                    {
                                        "name": "PriceTotal"
                                    },
                                    {
                                        "name": "DiscountTotal"
                                    },
                                    {
                                        "name": "ItemTotal"
                                    }
                                ]
                            },
                            "data": [
                                {
                                    "ItemID": "5",
                                    "ItemPrice": "1199.00",
                                    "DiscountAmount": "359.70",
                                    "Quantity": "2",
                                    "PriceTotal": "2398.00",
                                    "DiscountTotal": "719.40",
                                    "ItemTotal": "1678.60"
                                },
                                {
                                    "ItemID": "3",
                                    "ItemPrice": "2517.00",
                                    "DiscountAmount": "1308.84",
                                    "Quantity": "1",
                                    "PriceTotal": "2517.00",
                                    "DiscountTotal": "1308.84",
                                    "ItemTotal": "1208.16"
                                },
                                {
                                    "ItemID": "1",
                                    "ItemPrice": "1199.00",
                                    "DiscountAmount": "359.70",
                                    "Quantity": "1",
                                    "PriceTotal": "1199.00",
                                    "DiscountTotal": "359.70",
                                    "ItemTotal": "839.30"
                                },
                                {
                                    "ItemID": "11",
                                    "ItemPrice": "799.99",
                                    "DiscountAmount": "120.00",
                                    "Quantity": "1",
                                    "PriceTotal": "799.99",
                                    "DiscountTotal": "120.00",
                                    "ItemTotal": "679.99"
                                },
                                {
                                    "ItemID": "9",
                                    "ItemPrice": "799.99",
                                    "DiscountAmount": "240.00",
                                    "Quantity": "1",
                                    "PriceTotal": "799.99",
                                    "DiscountTotal": "240.00",
                                    "ItemTotal": "559.99"
                                }
                            ]
                        },
                        "text/html": [
                            "<table>",
                            "<tr><th>ItemID</th><th>ItemPrice</th><th>DiscountAmount</th><th>Quantity</th><th>PriceTotal</th><th>DiscountTotal</th><th>ItemTotal</th></tr>",
                            "<tr><td>5</td><td>1199.00</td><td>359.70</td><td>2</td><td>2398.00</td><td>719.40</td><td>1678.60</td></tr>",
                            "<tr><td>3</td><td>2517.00</td><td>1308.84</td><td>1</td><td>2517.00</td><td>1308.84</td><td>1208.16</td></tr>",
                            "<tr><td>1</td><td>1199.00</td><td>359.70</td><td>1</td><td>1199.00</td><td>359.70</td><td>839.30</td></tr>",
                            "<tr><td>11</td><td>799.99</td><td>120.00</td><td>1</td><td>799.99</td><td>120.00</td><td>679.99</td></tr>",
                            "<tr><td>9</td><td>799.99</td><td>240.00</td><td>1</td><td>799.99</td><td>240.00</td><td>559.99</td></tr>",
                            "</table>"
                        ]
                    }
                }
            ],
            "execution_count": 37
        },
        {
            "cell_type": "markdown",
            "source": [
                "6. Write a SELECT statement that returns these columns from the Orders table:\n",
                "\n",
                "OrderID                       The OrderID column\n",
                "\n",
                "OrderDate                    The OrderDate column\n",
                "\n",
                "ShipDate                      The ShipDate column\n",
                "\n",
                "Return only the rows where the ShipDate column contains a null value."
            ],
            "metadata": {
                "azdata_cell_guid": "5d829f3c-5f63-4ca7-8010-bcd4454b47f1"
            },
            "attachments": {}
        },
        {
            "cell_type": "code",
            "source": [
                "SELECT OrderID\n",
                "    , OrderDate\n",
                "    , ShipDate\n",
                "FROM Orders\n",
                "WHERE ShipDate IS NULL;"
            ],
            "metadata": {
                "azdata_cell_guid": "1af6ea3c-18e8-45f4-bf92-34ec2ae66398",
                "language": "sql"
            },
            "outputs": [
                {
                    "output_type": "display_data",
                    "data": {
                        "text/html": "(3 rows affected)"
                    },
                    "metadata": {}
                },
                {
                    "output_type": "display_data",
                    "data": {
                        "text/html": "Total execution time: 00:00:00.006"
                    },
                    "metadata": {}
                },
                {
                    "output_type": "execute_result",
                    "metadata": {},
                    "execution_count": 38,
                    "data": {
                        "application/vnd.dataresource+json": {
                            "schema": {
                                "fields": [
                                    {
                                        "name": "OrderID"
                                    },
                                    {
                                        "name": "OrderDate"
                                    },
                                    {
                                        "name": "ShipDate"
                                    }
                                ]
                            },
                            "data": [
                                {
                                    "OrderID": "6",
                                    "OrderDate": "2012-03-31 18:37:22.000",
                                    "ShipDate": "NULL"
                                },
                                {
                                    "OrderID": "8",
                                    "OrderDate": "2012-04-02 11:26:38.000",
                                    "ShipDate": "NULL"
                                },
                                {
                                    "OrderID": "9",
                                    "OrderDate": "2012-04-03 12:22:31.000",
                                    "ShipDate": "NULL"
                                }
                            ]
                        },
                        "text/html": [
                            "<table>",
                            "<tr><th>OrderID</th><th>OrderDate</th><th>ShipDate</th></tr>",
                            "<tr><td>6</td><td>2012-03-31 18:37:22.000</td><td>NULL</td></tr>",
                            "<tr><td>8</td><td>2012-04-02 11:26:38.000</td><td>NULL</td></tr>",
                            "<tr><td>9</td><td>2012-04-03 12:22:31.000</td><td>NULL</td></tr>",
                            "</table>"
                        ]
                    }
                }
            ],
            "execution_count": 38
        },
        {
            "cell_type": "markdown",
            "source": [
                "7. Write a SELECT statement without a FROM clause that creates a row with these columns:\n",
                "\n",
                "Price                            100 (dollars)\n",
                "\n",
                "TaxRate                       .07 (7 percent)\n",
                "\n",
                "TaxAmount                  The price multiplied by the tax rate\n",
                "\n",
                "Total                            The price plus tax\n",
                "\n",
                "To calculate the fourth column, add the expressions you used for the first and third columns."
            ],
            "metadata": {
                "azdata_cell_guid": "8d1f553f-5eb2-4835-9e5f-fc9a1d63d68d"
            },
            "attachments": {}
        },
        {
            "cell_type": "code",
            "source": [
                "SELECT 100 AS Price\n",
                "    , .07 AS TaxRate\n",
                "    , 100 * .07 AS TaxAmount\n",
                "    , 100 + (100 * .07) AS Total;"
            ],
            "metadata": {
                "azdata_cell_guid": "b7554628-4411-4d35-ae13-c30dd2bfbaf6",
                "language": "sql"
            },
            "outputs": [
                {
                    "output_type": "display_data",
                    "data": {
                        "text/html": "(1 row affected)"
                    },
                    "metadata": {}
                },
                {
                    "output_type": "display_data",
                    "data": {
                        "text/html": "Total execution time: 00:00:00.004"
                    },
                    "metadata": {}
                },
                {
                    "output_type": "execute_result",
                    "metadata": {},
                    "execution_count": 39,
                    "data": {
                        "application/vnd.dataresource+json": {
                            "schema": {
                                "fields": [
                                    {
                                        "name": "Price"
                                    },
                                    {
                                        "name": "TaxRate"
                                    },
                                    {
                                        "name": "TaxAmount"
                                    },
                                    {
                                        "name": "Total"
                                    }
                                ]
                            },
                            "data": [
                                {
                                    "Price": "100",
                                    "TaxRate": "0.07",
                                    "TaxAmount": "7.00",
                                    "Total": "107.00"
                                }
                            ]
                        },
                        "text/html": [
                            "<table>",
                            "<tr><th>Price</th><th>TaxRate</th><th>TaxAmount</th><th>Total</th></tr>",
                            "<tr><td>100</td><td>0.07</td><td>7.00</td><td>107.00</td></tr>",
                            "</table>"
                        ]
                    }
                }
            ],
            "execution_count": 39
        }
    ]
}